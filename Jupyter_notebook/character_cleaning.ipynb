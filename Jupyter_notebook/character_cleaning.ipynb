{
 "cells": [
  {
   "cell_type": "code",
   "execution_count": 9,
   "id": "bf3a12f2-4190-4f07-934b-6368662658fb",
   "metadata": {},
   "outputs": [
    {
     "name": "stdout",
     "output_type": "stream",
     "text": [
      "Requirement already satisfied: pandas in /home/simonet/my_jupyter_env/lib/python3.11/site-packages (2.2.2)\n",
      "Requirement already satisfied: numpy>=1.23.2 in /home/simonet/my_jupyter_env/lib/python3.11/site-packages (from pandas) (1.26.4)\n",
      "Requirement already satisfied: python-dateutil>=2.8.2 in /home/simonet/my_jupyter_env/lib/python3.11/site-packages (from pandas) (2.9.0.post0)\n",
      "Requirement already satisfied: pytz>=2020.1 in /home/simonet/my_jupyter_env/lib/python3.11/site-packages (from pandas) (2024.1)\n",
      "Requirement already satisfied: tzdata>=2022.7 in /home/simonet/my_jupyter_env/lib/python3.11/site-packages (from pandas) (2024.1)\n",
      "Requirement already satisfied: six>=1.5 in /home/simonet/my_jupyter_env/lib/python3.11/site-packages (from python-dateutil>=2.8.2->pandas) (1.16.0)\n",
      "\n",
      "\u001b[1m[\u001b[0m\u001b[34;49mnotice\u001b[0m\u001b[1;39;49m]\u001b[0m\u001b[39;49m A new release of pip is available: \u001b[0m\u001b[31;49m24.0\u001b[0m\u001b[39;49m -> \u001b[0m\u001b[32;49m24.2\u001b[0m\n",
      "\u001b[1m[\u001b[0m\u001b[34;49mnotice\u001b[0m\u001b[1;39;49m]\u001b[0m\u001b[39;49m To update, run: \u001b[0m\u001b[32;49mpip install --upgrade pip\u001b[0m\n"
     ]
    }
   ],
   "source": [
    "!pip install pandas"
   ]
  },
  {
   "cell_type": "code",
   "execution_count": 10,
   "id": "366c91ea-3e4a-4a5b-b99f-c4f03d0d4cd4",
   "metadata": {},
   "outputs": [
    {
     "name": "stdout",
     "output_type": "stream",
     "text": [
      "Requirement already satisfied: pip in /home/simonet/my_jupyter_env/lib/python3.11/site-packages (24.0)\n",
      "Collecting pip\n",
      "  Using cached pip-24.2-py3-none-any.whl.metadata (3.6 kB)\n",
      "Using cached pip-24.2-py3-none-any.whl (1.8 MB)\n",
      "Installing collected packages: pip\n",
      "  Attempting uninstall: pip\n",
      "    Found existing installation: pip 24.0\n",
      "    Uninstalling pip-24.0:\n",
      "      Successfully uninstalled pip-24.0\n",
      "Successfully installed pip-24.2\n",
      "Note: you may need to restart the kernel to use updated packages.\n"
     ]
    }
   ],
   "source": [
    " pip install --upgrade pip"
   ]
  },
  {
   "cell_type": "code",
   "execution_count": 17,
   "id": "a2101a6f-177b-46de-9cfc-f14cc52c50be",
   "metadata": {},
   "outputs": [],
   "source": [
    "#importing of necessary libraries\n",
    "import pandas as pd\n",
    "import numpy as np\n",
    "import os"
   ]
  },
  {
   "cell_type": "code",
   "execution_count": 22,
   "id": "b324f30b-0db0-4ea4-a5d4-12d379a10917",
   "metadata": {},
   "outputs": [
    {
     "data": {
      "text/plain": [
       "'/home/simonet/my_jupyter_env/share/characters.csv'"
      ]
     },
     "execution_count": 22,
     "metadata": {},
     "output_type": "execute_result"
    }
   ],
   "source": [
    "file_path = os.path.join(os.getcwd(), \"characters.csv\")\n",
    "file_path"
   ]
  },
  {
   "cell_type": "code",
   "execution_count": 25,
   "id": "a5de54a2-dab3-4d6e-b245-2231edc86b97",
   "metadata": {},
   "outputs": [
    {
     "data": {
      "text/html": [
       "<div>\n",
       "<style scoped>\n",
       "    .dataframe tbody tr th:only-of-type {\n",
       "        vertical-align: middle;\n",
       "    }\n",
       "\n",
       "    .dataframe tbody tr th {\n",
       "        vertical-align: top;\n",
       "    }\n",
       "\n",
       "    .dataframe thead th {\n",
       "        text-align: right;\n",
       "    }\n",
       "</style>\n",
       "<table border=\"1\" class=\"dataframe\">\n",
       "  <thead>\n",
       "    <tr style=\"text-align: right;\">\n",
       "      <th></th>\n",
       "      <th>Name</th>\n",
       "      <th>Gender</th>\n",
       "      <th>Game</th>\n",
       "      <th>Age</th>\n",
       "      <th>Age_range</th>\n",
       "      <th>Playable</th>\n",
       "      <th>Sexualization</th>\n",
       "      <th>Id</th>\n",
       "      <th>Species</th>\n",
       "      <th>Side</th>\n",
       "      <th>Relevance</th>\n",
       "      <th>Romantic_Interest</th>\n",
       "    </tr>\n",
       "  </thead>\n",
       "  <tbody>\n",
       "    <tr>\n",
       "      <th>0</th>\n",
       "      <td>Farah</td>\n",
       "      <td>Female</td>\n",
       "      <td>CODMW</td>\n",
       "      <td>27</td>\n",
       "      <td>Adult</td>\n",
       "      <td>1</td>\n",
       "      <td>0</td>\n",
       "      <td>CODMW_Farah</td>\n",
       "      <td>Human</td>\n",
       "      <td>P</td>\n",
       "      <td>PA</td>\n",
       "      <td>No</td>\n",
       "    </tr>\n",
       "    <tr>\n",
       "      <th>1</th>\n",
       "      <td>Protagonist</td>\n",
       "      <td>Custom</td>\n",
       "      <td>PSS</td>\n",
       "      <td>Teenager</td>\n",
       "      <td>Teenager</td>\n",
       "      <td>1</td>\n",
       "      <td>0</td>\n",
       "      <td>PSS_Protagonist</td>\n",
       "      <td>Human</td>\n",
       "      <td>P</td>\n",
       "      <td>PA</td>\n",
       "      <td>No</td>\n",
       "    </tr>\n",
       "    <tr>\n",
       "      <th>2</th>\n",
       "      <td>Magnolia</td>\n",
       "      <td>Female</td>\n",
       "      <td>PSS</td>\n",
       "      <td>Elderly</td>\n",
       "      <td>Elderly</td>\n",
       "      <td>0</td>\n",
       "      <td>0</td>\n",
       "      <td>PSS_Magnolia</td>\n",
       "      <td>Human</td>\n",
       "      <td>P</td>\n",
       "      <td>SC</td>\n",
       "      <td>No</td>\n",
       "    </tr>\n",
       "    <tr>\n",
       "      <th>3</th>\n",
       "      <td>Sonia</td>\n",
       "      <td>Female</td>\n",
       "      <td>PSS</td>\n",
       "      <td>26</td>\n",
       "      <td>Adult</td>\n",
       "      <td>0</td>\n",
       "      <td>0</td>\n",
       "      <td>PSS_Sonia</td>\n",
       "      <td>Human</td>\n",
       "      <td>P</td>\n",
       "      <td>SC</td>\n",
       "      <td>No</td>\n",
       "    </tr>\n",
       "    <tr>\n",
       "      <th>4</th>\n",
       "      <td>Marnie</td>\n",
       "      <td>Female</td>\n",
       "      <td>PSS</td>\n",
       "      <td>Teenager</td>\n",
       "      <td>Teenager</td>\n",
       "      <td>0</td>\n",
       "      <td>0</td>\n",
       "      <td>PSS_Marnie</td>\n",
       "      <td>Human</td>\n",
       "      <td>B</td>\n",
       "      <td>MC</td>\n",
       "      <td>No</td>\n",
       "    </tr>\n",
       "  </tbody>\n",
       "</table>\n",
       "</div>"
      ],
      "text/plain": [
       "          Name  Gender   Game       Age Age_range  Playable  Sexualization  \\\n",
       "0        Farah  Female  CODMW        27     Adult         1              0   \n",
       "1  Protagonist  Custom    PSS  Teenager  Teenager         1              0   \n",
       "2     Magnolia  Female    PSS   Elderly   Elderly         0              0   \n",
       "3        Sonia  Female    PSS        26     Adult         0              0   \n",
       "4       Marnie  Female    PSS  Teenager  Teenager         0              0   \n",
       "\n",
       "                Id Species Side Relevance Romantic_Interest  \n",
       "0      CODMW_Farah   Human    P        PA                No  \n",
       "1  PSS_Protagonist   Human    P        PA                No  \n",
       "2     PSS_Magnolia   Human    P        SC                No  \n",
       "3        PSS_Sonia   Human    P        SC                No  \n",
       "4       PSS_Marnie   Human    B        MC                No  "
      ]
     },
     "execution_count": 25,
     "metadata": {},
     "output_type": "execute_result"
    }
   ],
   "source": [
    "# Read unclean dataset to CSV\n",
    "character_data = pd.read_csv('/home/simonet/my_jupyter_env/characters.csv')\n",
    "character_data.head()"
   ]
  },
  {
   "cell_type": "code",
   "execution_count": 135,
   "id": "57f025ac-02e0-4d7d-ad9f-e3c1b17f3e4b",
   "metadata": {},
   "outputs": [
    {
     "data": {
      "text/plain": [
       "Name                 0\n",
       "Gender               0\n",
       "Game                 0\n",
       "Age_range            0\n",
       "Playable             0\n",
       "Sexualization        0\n",
       "Id                   0\n",
       "Species              0\n",
       "Alliance             0\n",
       "Function             0\n",
       "Romantic_Interest    0\n",
       "dtype: int64"
      ]
     },
     "execution_count": 135,
     "metadata": {},
     "output_type": "execute_result"
    }
   ],
   "source": [
    "#Initial check for null values, none \n",
    "character_data.isnull().sum()"
   ]
  },
  {
   "cell_type": "code",
   "execution_count": 135,
   "id": "6bc2ed6c-833f-4685-b556-af936ee29d90",
   "metadata": {},
   "outputs": [
    {
     "data": {
      "text/plain": [
       "Name                 0\n",
       "Gender               0\n",
       "Game                 0\n",
       "Age_range            0\n",
       "Playable             0\n",
       "Sexualization        0\n",
       "Id                   0\n",
       "Species              0\n",
       "Alliance             0\n",
       "Function             0\n",
       "Romantic_Interest    0\n",
       "dtype: int64"
      ]
     },
     "execution_count": 135,
     "metadata": {},
     "output_type": "execute_result"
    }
   ],
   "source": [
    "#Initial check for null values, none \n",
    "character_data.isnull().sum()"
   ]
  },
  {
   "cell_type": "code",
   "execution_count": 68,
   "id": "eabf33dc-9561-4f43-a852-26de5f52de7d",
   "metadata": {},
   "outputs": [
    {
     "data": {
      "text/plain": [
       "Name                 object\n",
       "Gender               object\n",
       "Game                 object\n",
       "Age_range            object\n",
       "Playable              int64\n",
       "Sexualization         int64\n",
       "Id                   object\n",
       "Species              object\n",
       "Alliance             object\n",
       "Function             object\n",
       "Romantic_Interest    object\n",
       "dtype: object"
      ]
     },
     "execution_count": 68,
     "metadata": {},
     "output_type": "execute_result"
    }
   ],
   "source": [
    "#character_data.dtypes, all data types correspond to data in column, can be manipulated with ease"
   ]
  },
  {
   "cell_type": "code",
   "execution_count": 137,
   "id": "214e826c-2a88-404c-a100-a732445099f9",
   "metadata": {},
   "outputs": [],
   "source": [
    "#character_data = character_data.rename(columns = {'Side':'Alliance'})\n",
    "#character_data = character_data.rename(columns = {'Side':'Alliance'})\n",
    "#character_data = character_data.rename(columns = {'Relevance':'Function'})\n",
    "character_data = character_data.rename(columns = {'Sexualization':'Sexualization_total'})"
   ]
  },
  {
   "cell_type": "code",
   "execution_count": 145,
   "id": "b4e3ea5f-129e-4942-81c3-a0c71a71354c",
   "metadata": {},
   "outputs": [
    {
     "name": "stdout",
     "output_type": "stream",
     "text": [
      "0\n"
     ]
    }
   ],
   "source": [
    "duplicate_count = character_data[character_data.duplicated()].shape[0]\n",
    "print(duplicate_count)"
   ]
  },
  {
   "cell_type": "code",
   "execution_count": 140,
   "id": "8da0afe1-52c3-441a-a945-4f7b2ccec7c1",
   "metadata": {},
   "outputs": [
    {
     "data": {
      "text/html": [
       "<div>\n",
       "<style scoped>\n",
       "    .dataframe tbody tr th:only-of-type {\n",
       "        vertical-align: middle;\n",
       "    }\n",
       "\n",
       "    .dataframe tbody tr th {\n",
       "        vertical-align: top;\n",
       "    }\n",
       "\n",
       "    .dataframe thead th {\n",
       "        text-align: right;\n",
       "    }\n",
       "</style>\n",
       "<table border=\"1\" class=\"dataframe\">\n",
       "  <thead>\n",
       "    <tr style=\"text-align: right;\">\n",
       "      <th></th>\n",
       "      <th>Name</th>\n",
       "      <th>Gender</th>\n",
       "      <th>Game</th>\n",
       "      <th>Age_range</th>\n",
       "      <th>Playable</th>\n",
       "      <th>Sexualization_total</th>\n",
       "      <th>Id</th>\n",
       "      <th>Species</th>\n",
       "      <th>Alliance</th>\n",
       "      <th>Function</th>\n",
       "      <th>Romantic_Interest</th>\n",
       "    </tr>\n",
       "  </thead>\n",
       "  <tbody>\n",
       "    <tr>\n",
       "      <th>0</th>\n",
       "      <td>Farah</td>\n",
       "      <td>Female</td>\n",
       "      <td>CODMW</td>\n",
       "      <td>Adult</td>\n",
       "      <td>1</td>\n",
       "      <td>0</td>\n",
       "      <td>CODMW_Farah</td>\n",
       "      <td>Human</td>\n",
       "      <td>Protagonist</td>\n",
       "      <td>PA</td>\n",
       "      <td>0</td>\n",
       "    </tr>\n",
       "    <tr>\n",
       "      <th>1</th>\n",
       "      <td>Protagonist</td>\n",
       "      <td>Custom</td>\n",
       "      <td>PSS</td>\n",
       "      <td>Teenager</td>\n",
       "      <td>1</td>\n",
       "      <td>0</td>\n",
       "      <td>PSS_Protagonist</td>\n",
       "      <td>Human</td>\n",
       "      <td>Protagonist</td>\n",
       "      <td>PA</td>\n",
       "      <td>0</td>\n",
       "    </tr>\n",
       "    <tr>\n",
       "      <th>2</th>\n",
       "      <td>Magnolia</td>\n",
       "      <td>Female</td>\n",
       "      <td>PSS</td>\n",
       "      <td>Elderly</td>\n",
       "      <td>0</td>\n",
       "      <td>0</td>\n",
       "      <td>PSS_Magnolia</td>\n",
       "      <td>Human</td>\n",
       "      <td>Protagonist</td>\n",
       "      <td>SC</td>\n",
       "      <td>0</td>\n",
       "    </tr>\n",
       "    <tr>\n",
       "      <th>3</th>\n",
       "      <td>Sonia</td>\n",
       "      <td>Female</td>\n",
       "      <td>PSS</td>\n",
       "      <td>Adult</td>\n",
       "      <td>0</td>\n",
       "      <td>0</td>\n",
       "      <td>PSS_Sonia</td>\n",
       "      <td>Human</td>\n",
       "      <td>Protagonist</td>\n",
       "      <td>SC</td>\n",
       "      <td>0</td>\n",
       "    </tr>\n",
       "    <tr>\n",
       "      <th>4</th>\n",
       "      <td>Marnie</td>\n",
       "      <td>Female</td>\n",
       "      <td>PSS</td>\n",
       "      <td>Teenager</td>\n",
       "      <td>0</td>\n",
       "      <td>0</td>\n",
       "      <td>PSS_Marnie</td>\n",
       "      <td>Human</td>\n",
       "      <td>Both</td>\n",
       "      <td>MC</td>\n",
       "      <td>0</td>\n",
       "    </tr>\n",
       "  </tbody>\n",
       "</table>\n",
       "</div>"
      ],
      "text/plain": [
       "          Name  Gender   Game Age_range  Playable  Sexualization_total  \\\n",
       "0        Farah  Female  CODMW     Adult         1                    0   \n",
       "1  Protagonist  Custom    PSS  Teenager         1                    0   \n",
       "2     Magnolia  Female    PSS   Elderly         0                    0   \n",
       "3        Sonia  Female    PSS     Adult         0                    0   \n",
       "4       Marnie  Female    PSS  Teenager         0                    0   \n",
       "\n",
       "                Id Species     Alliance Function Romantic_Interest  \n",
       "0      CODMW_Farah   Human  Protagonist       PA                 0  \n",
       "1  PSS_Protagonist   Human  Protagonist       PA                 0  \n",
       "2     PSS_Magnolia   Human  Protagonist       SC                 0  \n",
       "3        PSS_Sonia   Human  Protagonist       SC                 0  \n",
       "4       PSS_Marnie   Human         Both       MC                 0  "
      ]
     },
     "execution_count": 140,
     "metadata": {},
     "output_type": "execute_result"
    }
   ],
   "source": [
    "character_data.head()"
   ]
  },
  {
   "cell_type": "code",
   "execution_count": 147,
   "id": "a42e6bf6-5577-4d6d-a7df-dfb52b02416c",
   "metadata": {},
   "outputs": [],
   "source": [
    "#Altering Alliance column values -consideration clarity, however run time may be slightly longer - however preferred due to small dataset\n",
    "character_data['Alliance'] = character_data['Alliance'].replace({'P':'Protagonist', 'A':'Antagonist', 'B':'Both'})"
   ]
  },
  {
   "cell_type": "code",
   "execution_count": 154,
   "id": "38a71fbe-be3b-40e7-ab03-799b8a21fd02",
   "metadata": {},
   "outputs": [],
   "source": [
    "#replacement of Romantic interest str with int, consideration consistency with 'Playable' and 'Sexualization' fields, may improve run time\n",
    "character_data['Romantic_Interest'] = character_data['Romantic_Interest'].replace({'Yes':1, 'No':0})"
   ]
  },
  {
   "cell_type": "code",
   "execution_count": 155,
   "id": "55ab4593-30f8-4c15-b2de-aa4e2b276e33",
   "metadata": {},
   "outputs": [],
   "source": [
    "character_data.to_csv('cleaned_characters.csv', index=False)"
   ]
  },
  {
   "cell_type": "code",
   "execution_count": null,
   "id": "087a1857-d142-4449-9934-74003b990087",
   "metadata": {},
   "outputs": [],
   "source": []
  },
  {
   "cell_type": "code",
   "execution_count": null,
   "id": "1daaf987-70c3-4747-8536-3e6b4d53f383",
   "metadata": {},
   "outputs": [],
   "source": []
  }
 ],
 "metadata": {
  "kernelspec": {
   "display_name": "Python 3 (ipykernel)",
   "language": "python",
   "name": "python3"
  },
  "language_info": {
   "codemirror_mode": {
    "name": "ipython",
    "version": 3
   },
   "file_extension": ".py",
   "mimetype": "text/x-python",
   "name": "python",
   "nbconvert_exporter": "python",
   "pygments_lexer": "ipython3",
   "version": "3.11.2"
  }
 },
 "nbformat": 4,
 "nbformat_minor": 5
}
