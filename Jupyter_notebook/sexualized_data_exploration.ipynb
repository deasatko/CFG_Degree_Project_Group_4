{
 "cells": [
  {
   "cell_type": "markdown",
   "metadata": {},
   "source": [
    "Importing modules"
   ]
  },
  {
   "cell_type": "code",
   "execution_count": 54,
   "metadata": {},
   "outputs": [],
   "source": [
    "import pandas as pd\n",
    "import numpy as np\n",
    "import matplotlib.pyplot as plt\n",
    "import seaborn as sns\n",
    "import datetime"
   ]
  },
  {
   "cell_type": "markdown",
   "metadata": {},
   "source": [
    "Stablishing routes "
   ]
  },
  {
   "cell_type": "code",
   "execution_count": 55,
   "metadata": {},
   "outputs": [
    {
     "name": "stdout",
     "output_type": "stream",
     "text": [
      "<class 'pandas.core.frame.DataFrame'>\n",
      "RangeIndex: 637 entries, 0 to 636\n",
      "Data columns (total 11 columns):\n",
      " #   Column               Non-Null Count  Dtype \n",
      "---  ------               --------------  ----- \n",
      " 0   Name                 637 non-null    object\n",
      " 1   Gender               637 non-null    object\n",
      " 2   Game                 637 non-null    object\n",
      " 3   Age_range            637 non-null    object\n",
      " 4   Playable             637 non-null    int64 \n",
      " 5   Sexualization_total  637 non-null    int64 \n",
      " 6   Id                   637 non-null    object\n",
      " 7   Species              637 non-null    object\n",
      " 8   Alliance             637 non-null    object\n",
      " 9   Function             637 non-null    object\n",
      " 10  Romantic_Interest    637 non-null    int64 \n",
      "dtypes: int64(3), object(8)\n",
      "memory usage: 54.9+ KB\n"
     ]
    }
   ],
   "source": [
    "df_char = pd.read_csv(r\"F:\\Documentos\\eli\\0ELI\\estudios\\Coding\\GitHub\\project - final\\CFG_Degree_Project_Group_4\\data\\cleaned\\cleaned_characters.csv\")\n",
    "\n",
    "df_char.info()"
   ]
  },
  {
   "cell_type": "code",
   "execution_count": 56,
   "metadata": {},
   "outputs": [
    {
     "name": "stdout",
     "output_type": "stream",
     "text": [
      "<class 'pandas.core.frame.DataFrame'>\n",
      "RangeIndex: 637 entries, 0 to 636\n",
      "Data columns (total 6 columns):\n",
      " #   Column                Non-Null Count  Dtype \n",
      "---  ------                --------------  ----- \n",
      " 0   character_id          637 non-null    object\n",
      " 1   Sexualized_clothing   637 non-null    int64 \n",
      " 2   Trophy                637 non-null    int64 \n",
      " 3   Damsel in Distress    637 non-null    int64 \n",
      " 4   Sexualized Cutscenes  637 non-null    int64 \n",
      " 5   Total                 637 non-null    int64 \n",
      "dtypes: int64(5), object(1)\n",
      "memory usage: 30.0+ KB\n"
     ]
    }
   ],
   "source": [
    "df_sex = pd.read_csv(r\"F:\\Documentos\\eli\\0ELI\\estudios\\Coding\\GitHub\\project - final\\CFG_Degree_Project_Group_4\\data\\cleaned\\cleaned_sexualization.csv\")\n",
    "df_sex.info()"
   ]
  },
  {
   "cell_type": "markdown",
   "metadata": {},
   "source": [
    "First stats"
   ]
  },
  {
   "cell_type": "code",
   "execution_count": 57,
   "metadata": {},
   "outputs": [
    {
     "data": {
      "text/html": [
       "<div>\n",
       "<style scoped>\n",
       "    .dataframe tbody tr th:only-of-type {\n",
       "        vertical-align: middle;\n",
       "    }\n",
       "\n",
       "    .dataframe tbody tr th {\n",
       "        vertical-align: top;\n",
       "    }\n",
       "\n",
       "    .dataframe thead th {\n",
       "        text-align: right;\n",
       "    }\n",
       "</style>\n",
       "<table border=\"1\" class=\"dataframe\">\n",
       "  <thead>\n",
       "    <tr style=\"text-align: right;\">\n",
       "      <th></th>\n",
       "      <th>Sexualized_clothing</th>\n",
       "      <th>Trophy</th>\n",
       "      <th>Damsel in Distress</th>\n",
       "      <th>Sexualized Cutscenes</th>\n",
       "      <th>Total</th>\n",
       "    </tr>\n",
       "  </thead>\n",
       "  <tbody>\n",
       "    <tr>\n",
       "      <th>count</th>\n",
       "      <td>637.000000</td>\n",
       "      <td>637.000000</td>\n",
       "      <td>637.000000</td>\n",
       "      <td>637.000000</td>\n",
       "      <td>637.000000</td>\n",
       "    </tr>\n",
       "    <tr>\n",
       "      <th>mean</th>\n",
       "      <td>0.029827</td>\n",
       "      <td>0.010989</td>\n",
       "      <td>0.028257</td>\n",
       "      <td>0.017268</td>\n",
       "      <td>0.086342</td>\n",
       "    </tr>\n",
       "    <tr>\n",
       "      <th>std</th>\n",
       "      <td>0.170244</td>\n",
       "      <td>0.104333</td>\n",
       "      <td>0.165838</td>\n",
       "      <td>0.130372</td>\n",
       "      <td>0.389022</td>\n",
       "    </tr>\n",
       "    <tr>\n",
       "      <th>min</th>\n",
       "      <td>0.000000</td>\n",
       "      <td>0.000000</td>\n",
       "      <td>0.000000</td>\n",
       "      <td>0.000000</td>\n",
       "      <td>0.000000</td>\n",
       "    </tr>\n",
       "    <tr>\n",
       "      <th>25%</th>\n",
       "      <td>0.000000</td>\n",
       "      <td>0.000000</td>\n",
       "      <td>0.000000</td>\n",
       "      <td>0.000000</td>\n",
       "      <td>0.000000</td>\n",
       "    </tr>\n",
       "    <tr>\n",
       "      <th>50%</th>\n",
       "      <td>0.000000</td>\n",
       "      <td>0.000000</td>\n",
       "      <td>0.000000</td>\n",
       "      <td>0.000000</td>\n",
       "      <td>0.000000</td>\n",
       "    </tr>\n",
       "    <tr>\n",
       "      <th>75%</th>\n",
       "      <td>0.000000</td>\n",
       "      <td>0.000000</td>\n",
       "      <td>0.000000</td>\n",
       "      <td>0.000000</td>\n",
       "      <td>0.000000</td>\n",
       "    </tr>\n",
       "    <tr>\n",
       "      <th>max</th>\n",
       "      <td>1.000000</td>\n",
       "      <td>1.000000</td>\n",
       "      <td>1.000000</td>\n",
       "      <td>1.000000</td>\n",
       "      <td>3.000000</td>\n",
       "    </tr>\n",
       "  </tbody>\n",
       "</table>\n",
       "</div>"
      ],
      "text/plain": [
       "       Sexualized_clothing      Trophy  Damsel in Distress  \\\n",
       "count           637.000000  637.000000          637.000000   \n",
       "mean              0.029827    0.010989            0.028257   \n",
       "std               0.170244    0.104333            0.165838   \n",
       "min               0.000000    0.000000            0.000000   \n",
       "25%               0.000000    0.000000            0.000000   \n",
       "50%               0.000000    0.000000            0.000000   \n",
       "75%               0.000000    0.000000            0.000000   \n",
       "max               1.000000    1.000000            1.000000   \n",
       "\n",
       "       Sexualized Cutscenes       Total  \n",
       "count            637.000000  637.000000  \n",
       "mean               0.017268    0.086342  \n",
       "std                0.130372    0.389022  \n",
       "min                0.000000    0.000000  \n",
       "25%                0.000000    0.000000  \n",
       "50%                0.000000    0.000000  \n",
       "75%                0.000000    0.000000  \n",
       "max                1.000000    3.000000  "
      ]
     },
     "execution_count": 57,
     "metadata": {},
     "output_type": "execute_result"
    }
   ],
   "source": [
    "df_sex.describe()"
   ]
  },
  {
   "cell_type": "code",
   "execution_count": 58,
   "metadata": {},
   "outputs": [
    {
     "data": {
      "text/html": [
       "<div>\n",
       "<style scoped>\n",
       "    .dataframe tbody tr th:only-of-type {\n",
       "        vertical-align: middle;\n",
       "    }\n",
       "\n",
       "    .dataframe tbody tr th {\n",
       "        vertical-align: top;\n",
       "    }\n",
       "\n",
       "    .dataframe thead th {\n",
       "        text-align: right;\n",
       "    }\n",
       "</style>\n",
       "<table border=\"1\" class=\"dataframe\">\n",
       "  <thead>\n",
       "    <tr style=\"text-align: right;\">\n",
       "      <th></th>\n",
       "      <th>Playable</th>\n",
       "      <th>Sexualization_total</th>\n",
       "      <th>Romantic_Interest</th>\n",
       "    </tr>\n",
       "  </thead>\n",
       "  <tbody>\n",
       "    <tr>\n",
       "      <th>count</th>\n",
       "      <td>637.000000</td>\n",
       "      <td>637.000000</td>\n",
       "      <td>637.000000</td>\n",
       "    </tr>\n",
       "    <tr>\n",
       "      <th>mean</th>\n",
       "      <td>0.193093</td>\n",
       "      <td>0.086342</td>\n",
       "      <td>0.124019</td>\n",
       "    </tr>\n",
       "    <tr>\n",
       "      <th>std</th>\n",
       "      <td>0.395035</td>\n",
       "      <td>0.389022</td>\n",
       "      <td>0.454195</td>\n",
       "    </tr>\n",
       "    <tr>\n",
       "      <th>min</th>\n",
       "      <td>0.000000</td>\n",
       "      <td>0.000000</td>\n",
       "      <td>0.000000</td>\n",
       "    </tr>\n",
       "    <tr>\n",
       "      <th>25%</th>\n",
       "      <td>0.000000</td>\n",
       "      <td>0.000000</td>\n",
       "      <td>0.000000</td>\n",
       "    </tr>\n",
       "    <tr>\n",
       "      <th>50%</th>\n",
       "      <td>0.000000</td>\n",
       "      <td>0.000000</td>\n",
       "      <td>0.000000</td>\n",
       "    </tr>\n",
       "    <tr>\n",
       "      <th>75%</th>\n",
       "      <td>0.000000</td>\n",
       "      <td>0.000000</td>\n",
       "      <td>0.000000</td>\n",
       "    </tr>\n",
       "    <tr>\n",
       "      <th>max</th>\n",
       "      <td>1.000000</td>\n",
       "      <td>3.000000</td>\n",
       "      <td>2.000000</td>\n",
       "    </tr>\n",
       "  </tbody>\n",
       "</table>\n",
       "</div>"
      ],
      "text/plain": [
       "         Playable  Sexualization_total  Romantic_Interest\n",
       "count  637.000000           637.000000         637.000000\n",
       "mean     0.193093             0.086342           0.124019\n",
       "std      0.395035             0.389022           0.454195\n",
       "min      0.000000             0.000000           0.000000\n",
       "25%      0.000000             0.000000           0.000000\n",
       "50%      0.000000             0.000000           0.000000\n",
       "75%      0.000000             0.000000           0.000000\n",
       "max      1.000000             3.000000           2.000000"
      ]
     },
     "execution_count": 58,
     "metadata": {},
     "output_type": "execute_result"
    }
   ],
   "source": [
    "df_char.describe()"
   ]
  },
  {
   "cell_type": "markdown",
   "metadata": {},
   "source": [
    "More examples"
   ]
  },
  {
   "cell_type": "code",
   "execution_count": 59,
   "metadata": {},
   "outputs": [
    {
     "data": {
      "text/html": [
       "<div>\n",
       "<style scoped>\n",
       "    .dataframe tbody tr th:only-of-type {\n",
       "        vertical-align: middle;\n",
       "    }\n",
       "\n",
       "    .dataframe tbody tr th {\n",
       "        vertical-align: top;\n",
       "    }\n",
       "\n",
       "    .dataframe thead th {\n",
       "        text-align: right;\n",
       "    }\n",
       "</style>\n",
       "<table border=\"1\" class=\"dataframe\">\n",
       "  <thead>\n",
       "    <tr style=\"text-align: right;\">\n",
       "      <th></th>\n",
       "      <th>Name</th>\n",
       "      <th>Gender</th>\n",
       "      <th>Game</th>\n",
       "      <th>Age_range</th>\n",
       "      <th>Playable</th>\n",
       "      <th>Sexualization_total</th>\n",
       "      <th>Id</th>\n",
       "      <th>Species</th>\n",
       "      <th>Alliance</th>\n",
       "      <th>Function</th>\n",
       "      <th>Romantic_Interest</th>\n",
       "    </tr>\n",
       "  </thead>\n",
       "  <tbody>\n",
       "    <tr>\n",
       "      <th>0</th>\n",
       "      <td>Farah</td>\n",
       "      <td>Female</td>\n",
       "      <td>CODMW</td>\n",
       "      <td>Adult</td>\n",
       "      <td>1</td>\n",
       "      <td>0</td>\n",
       "      <td>CODMW_Farah</td>\n",
       "      <td>Human</td>\n",
       "      <td>Protagonist</td>\n",
       "      <td>PA</td>\n",
       "      <td>0</td>\n",
       "    </tr>\n",
       "    <tr>\n",
       "      <th>1</th>\n",
       "      <td>Protagonist</td>\n",
       "      <td>Custom</td>\n",
       "      <td>PSS</td>\n",
       "      <td>Teenager</td>\n",
       "      <td>1</td>\n",
       "      <td>0</td>\n",
       "      <td>PSS_Protagonist</td>\n",
       "      <td>Human</td>\n",
       "      <td>Protagonist</td>\n",
       "      <td>PA</td>\n",
       "      <td>0</td>\n",
       "    </tr>\n",
       "    <tr>\n",
       "      <th>2</th>\n",
       "      <td>Magnolia</td>\n",
       "      <td>Female</td>\n",
       "      <td>PSS</td>\n",
       "      <td>Elderly</td>\n",
       "      <td>0</td>\n",
       "      <td>0</td>\n",
       "      <td>PSS_Magnolia</td>\n",
       "      <td>Human</td>\n",
       "      <td>Protagonist</td>\n",
       "      <td>SC</td>\n",
       "      <td>0</td>\n",
       "    </tr>\n",
       "    <tr>\n",
       "      <th>3</th>\n",
       "      <td>Sonia</td>\n",
       "      <td>Female</td>\n",
       "      <td>PSS</td>\n",
       "      <td>Adult</td>\n",
       "      <td>0</td>\n",
       "      <td>0</td>\n",
       "      <td>PSS_Sonia</td>\n",
       "      <td>Human</td>\n",
       "      <td>Protagonist</td>\n",
       "      <td>SC</td>\n",
       "      <td>0</td>\n",
       "    </tr>\n",
       "    <tr>\n",
       "      <th>4</th>\n",
       "      <td>Marnie</td>\n",
       "      <td>Female</td>\n",
       "      <td>PSS</td>\n",
       "      <td>Teenager</td>\n",
       "      <td>0</td>\n",
       "      <td>0</td>\n",
       "      <td>PSS_Marnie</td>\n",
       "      <td>Human</td>\n",
       "      <td>Both</td>\n",
       "      <td>MC</td>\n",
       "      <td>0</td>\n",
       "    </tr>\n",
       "    <tr>\n",
       "      <th>5</th>\n",
       "      <td>Oleana</td>\n",
       "      <td>Female</td>\n",
       "      <td>PSS</td>\n",
       "      <td>Adult</td>\n",
       "      <td>0</td>\n",
       "      <td>0</td>\n",
       "      <td>PSS_Oleana</td>\n",
       "      <td>Human</td>\n",
       "      <td>Antagonist</td>\n",
       "      <td>SC</td>\n",
       "      <td>0</td>\n",
       "    </tr>\n",
       "    <tr>\n",
       "      <th>6</th>\n",
       "      <td>Peach</td>\n",
       "      <td>Female</td>\n",
       "      <td>SMO</td>\n",
       "      <td>Adult</td>\n",
       "      <td>0</td>\n",
       "      <td>2</td>\n",
       "      <td>SMO_Peach</td>\n",
       "      <td>Human</td>\n",
       "      <td>Protagonist</td>\n",
       "      <td>MC</td>\n",
       "      <td>1</td>\n",
       "    </tr>\n",
       "    <tr>\n",
       "      <th>7</th>\n",
       "      <td>Zelda</td>\n",
       "      <td>Female</td>\n",
       "      <td>BOTW</td>\n",
       "      <td>Teenager</td>\n",
       "      <td>0</td>\n",
       "      <td>0</td>\n",
       "      <td>BOTW_Zelda</td>\n",
       "      <td>Human</td>\n",
       "      <td>Protagonist</td>\n",
       "      <td>DA</td>\n",
       "      <td>0</td>\n",
       "    </tr>\n",
       "    <tr>\n",
       "      <th>8</th>\n",
       "      <td>Protagonist</td>\n",
       "      <td>Custom</td>\n",
       "      <td>PSM</td>\n",
       "      <td>Child</td>\n",
       "      <td>1</td>\n",
       "      <td>0</td>\n",
       "      <td>PSM_Protagonist</td>\n",
       "      <td>Human</td>\n",
       "      <td>Protagonist</td>\n",
       "      <td>PA</td>\n",
       "      <td>0</td>\n",
       "    </tr>\n",
       "    <tr>\n",
       "      <th>9</th>\n",
       "      <td>Ciri</td>\n",
       "      <td>Female</td>\n",
       "      <td>TW3</td>\n",
       "      <td>Young adult</td>\n",
       "      <td>0</td>\n",
       "      <td>2</td>\n",
       "      <td>TW3_Ciri</td>\n",
       "      <td>Human</td>\n",
       "      <td>Protagonist</td>\n",
       "      <td>DA</td>\n",
       "      <td>0</td>\n",
       "    </tr>\n",
       "  </tbody>\n",
       "</table>\n",
       "</div>"
      ],
      "text/plain": [
       "          Name  Gender   Game    Age_range  Playable  Sexualization_total  \\\n",
       "0        Farah  Female  CODMW        Adult         1                    0   \n",
       "1  Protagonist  Custom    PSS     Teenager         1                    0   \n",
       "2     Magnolia  Female    PSS      Elderly         0                    0   \n",
       "3        Sonia  Female    PSS        Adult         0                    0   \n",
       "4       Marnie  Female    PSS     Teenager         0                    0   \n",
       "5       Oleana  Female    PSS        Adult         0                    0   \n",
       "6        Peach  Female    SMO        Adult         0                    2   \n",
       "7        Zelda  Female   BOTW     Teenager         0                    0   \n",
       "8  Protagonist  Custom    PSM        Child         1                    0   \n",
       "9         Ciri  Female    TW3  Young adult         0                    2   \n",
       "\n",
       "                Id Species     Alliance Function  Romantic_Interest  \n",
       "0      CODMW_Farah   Human  Protagonist       PA                  0  \n",
       "1  PSS_Protagonist   Human  Protagonist       PA                  0  \n",
       "2     PSS_Magnolia   Human  Protagonist       SC                  0  \n",
       "3        PSS_Sonia   Human  Protagonist       SC                  0  \n",
       "4       PSS_Marnie   Human         Both       MC                  0  \n",
       "5       PSS_Oleana   Human   Antagonist       SC                  0  \n",
       "6        SMO_Peach   Human  Protagonist       MC                  1  \n",
       "7       BOTW_Zelda   Human  Protagonist       DA                  0  \n",
       "8  PSM_Protagonist   Human  Protagonist       PA                  0  \n",
       "9         TW3_Ciri   Human  Protagonist       DA                  0  "
      ]
     },
     "execution_count": 59,
     "metadata": {},
     "output_type": "execute_result"
    }
   ],
   "source": [
    "df_char.head(10)"
   ]
  },
  {
   "cell_type": "markdown",
   "metadata": {},
   "source": [
    "I don't agree with zelda as no trophy, also she's kidnapped"
   ]
  },
  {
   "cell_type": "code",
   "execution_count": 60,
   "metadata": {},
   "outputs": [
    {
     "data": {
      "text/html": [
       "<div>\n",
       "<style scoped>\n",
       "    .dataframe tbody tr th:only-of-type {\n",
       "        vertical-align: middle;\n",
       "    }\n",
       "\n",
       "    .dataframe tbody tr th {\n",
       "        vertical-align: top;\n",
       "    }\n",
       "\n",
       "    .dataframe thead th {\n",
       "        text-align: right;\n",
       "    }\n",
       "</style>\n",
       "<table border=\"1\" class=\"dataframe\">\n",
       "  <thead>\n",
       "    <tr style=\"text-align: right;\">\n",
       "      <th></th>\n",
       "      <th>character_id</th>\n",
       "      <th>Sexualized_clothing</th>\n",
       "      <th>Trophy</th>\n",
       "      <th>Damsel in Distress</th>\n",
       "      <th>Sexualized Cutscenes</th>\n",
       "      <th>Total</th>\n",
       "    </tr>\n",
       "  </thead>\n",
       "  <tbody>\n",
       "    <tr>\n",
       "      <th>0</th>\n",
       "      <td>CODMW_Farah</td>\n",
       "      <td>0</td>\n",
       "      <td>0</td>\n",
       "      <td>0</td>\n",
       "      <td>0</td>\n",
       "      <td>0</td>\n",
       "    </tr>\n",
       "    <tr>\n",
       "      <th>1</th>\n",
       "      <td>PSS_Protagonist</td>\n",
       "      <td>0</td>\n",
       "      <td>0</td>\n",
       "      <td>0</td>\n",
       "      <td>0</td>\n",
       "      <td>0</td>\n",
       "    </tr>\n",
       "    <tr>\n",
       "      <th>2</th>\n",
       "      <td>PSS_Magnolia</td>\n",
       "      <td>0</td>\n",
       "      <td>0</td>\n",
       "      <td>0</td>\n",
       "      <td>0</td>\n",
       "      <td>0</td>\n",
       "    </tr>\n",
       "    <tr>\n",
       "      <th>3</th>\n",
       "      <td>PSS_Sonia</td>\n",
       "      <td>0</td>\n",
       "      <td>0</td>\n",
       "      <td>0</td>\n",
       "      <td>0</td>\n",
       "      <td>0</td>\n",
       "    </tr>\n",
       "    <tr>\n",
       "      <th>4</th>\n",
       "      <td>PSS_Marnie</td>\n",
       "      <td>0</td>\n",
       "      <td>0</td>\n",
       "      <td>0</td>\n",
       "      <td>0</td>\n",
       "      <td>0</td>\n",
       "    </tr>\n",
       "    <tr>\n",
       "      <th>5</th>\n",
       "      <td>PSS_Oleana</td>\n",
       "      <td>0</td>\n",
       "      <td>0</td>\n",
       "      <td>0</td>\n",
       "      <td>0</td>\n",
       "      <td>0</td>\n",
       "    </tr>\n",
       "    <tr>\n",
       "      <th>6</th>\n",
       "      <td>SMO_Peach</td>\n",
       "      <td>0</td>\n",
       "      <td>1</td>\n",
       "      <td>1</td>\n",
       "      <td>0</td>\n",
       "      <td>2</td>\n",
       "    </tr>\n",
       "    <tr>\n",
       "      <th>7</th>\n",
       "      <td>BOTW_Zelda</td>\n",
       "      <td>0</td>\n",
       "      <td>0</td>\n",
       "      <td>0</td>\n",
       "      <td>0</td>\n",
       "      <td>0</td>\n",
       "    </tr>\n",
       "    <tr>\n",
       "      <th>8</th>\n",
       "      <td>PSM_Protagonist</td>\n",
       "      <td>0</td>\n",
       "      <td>0</td>\n",
       "      <td>0</td>\n",
       "      <td>0</td>\n",
       "      <td>0</td>\n",
       "    </tr>\n",
       "    <tr>\n",
       "      <th>9</th>\n",
       "      <td>TW3_Ciri</td>\n",
       "      <td>1</td>\n",
       "      <td>0</td>\n",
       "      <td>1</td>\n",
       "      <td>0</td>\n",
       "      <td>2</td>\n",
       "    </tr>\n",
       "  </tbody>\n",
       "</table>\n",
       "</div>"
      ],
      "text/plain": [
       "      character_id  Sexualized_clothing  Trophy  Damsel in Distress  \\\n",
       "0      CODMW_Farah                    0       0                   0   \n",
       "1  PSS_Protagonist                    0       0                   0   \n",
       "2     PSS_Magnolia                    0       0                   0   \n",
       "3        PSS_Sonia                    0       0                   0   \n",
       "4       PSS_Marnie                    0       0                   0   \n",
       "5       PSS_Oleana                    0       0                   0   \n",
       "6        SMO_Peach                    0       1                   1   \n",
       "7       BOTW_Zelda                    0       0                   0   \n",
       "8  PSM_Protagonist                    0       0                   0   \n",
       "9         TW3_Ciri                    1       0                   1   \n",
       "\n",
       "   Sexualized Cutscenes  Total  \n",
       "0                     0      0  \n",
       "1                     0      0  \n",
       "2                     0      0  \n",
       "3                     0      0  \n",
       "4                     0      0  \n",
       "5                     0      0  \n",
       "6                     0      2  \n",
       "7                     0      0  \n",
       "8                     0      0  \n",
       "9                     0      2  "
      ]
     },
     "execution_count": 60,
     "metadata": {},
     "output_type": "execute_result"
    }
   ],
   "source": [
    "df_sex.head(10)"
   ]
  },
  {
   "cell_type": "code",
   "execution_count": 61,
   "metadata": {},
   "outputs": [
    {
     "data": {
      "text/plain": [
       "Gender\n",
       "Male          393\n",
       "Female        203\n",
       "Non-binary     33\n",
       "Custom          8\n",
       "Name: count, dtype: int64"
      ]
     },
     "execution_count": 61,
     "metadata": {},
     "output_type": "execute_result"
    }
   ],
   "source": [
    "df_char.value_counts(\"Gender\")"
   ]
  },
  {
   "cell_type": "markdown",
   "metadata": {},
   "source": [
    "Checking from what games comes non-binary"
   ]
  },
  {
   "cell_type": "code",
   "execution_count": 62,
   "metadata": {},
   "outputs": [
    {
     "name": "stdout",
     "output_type": "stream",
     "text": [
      "         Gender    Game\n",
      "11   Non-binary      UT\n",
      "16   Non-binary     JRN\n",
      "56   Non-binary      UT\n",
      "207  Non-binary     BSI\n",
      "222  Non-binary     JRN\n",
      "223  Non-binary     JRN\n",
      "224  Non-binary     JRN\n",
      "257  Non-binary      TN\n",
      "258  Non-binary      TN\n",
      "263  Non-binary      ER\n",
      "267  Non-binary      ER\n",
      "283  Non-binary      NW\n",
      "308  Non-binary     NRA\n",
      "325  Non-binary   IWATE\n",
      "339  Non-binary   IWATE\n",
      "346  Non-binary     IMM\n",
      "347  Non-binary     IMM\n",
      "371  Non-binary    CACW\n",
      "396  Non-binary    OAWW\n",
      "399  Non-binary    OAWW\n",
      "432  Non-binary  TINGWD\n",
      "456  Non-binary    OABF\n",
      "460  Non-binary    OABF\n",
      "502  Non-binary     CLS\n",
      "503  Non-binary      DC\n",
      "508  Non-binary    HLKN\n",
      "512  Non-binary    HLKN\n",
      "529  Non-binary    NITW\n",
      "532  Non-binary    NITW\n",
      "569  Non-binary    MGSV\n",
      "571  Non-binary    TSWP\n",
      "599  Non-binary   TBOIR\n",
      "628  Non-binary    KBOS\n"
     ]
    }
   ],
   "source": [
    "df_non_b = df_char[df_char['Gender'] == 'Non-binary'][['Gender', 'Game']]\n",
    "print(df_non_b)"
   ]
  },
  {
   "cell_type": "markdown",
   "metadata": {},
   "source": [
    "# CHARACTER DATA QUESTIONS "
   ]
  },
  {
   "cell_type": "markdown",
   "metadata": {},
   "source": [
    "Merging character and sexualization tables, when grouped by gender, what can we learn about designers clothing choices for characters? Which (if any) gender is most likely to wear sexualized clothing?\n",
    "Joining gender-sex_cloths and then doing a sum "
   ]
  },
  {
   "cell_type": "code",
   "execution_count": 64,
   "metadata": {},
   "outputs": [
    {
     "name": "stdout",
     "output_type": "stream",
     "text": [
      "Gender\n",
      "Custom         0\n",
      "Female        17\n",
      "Male           2\n",
      "Non-binary     0\n",
      "Name: Sexualized_clothing, dtype: int64\n"
     ]
    }
   ],
   "source": [
    "df_merged = pd.merge(df_char, df_sex, on='Id')\n",
    "\n",
    "# Calcular el promedio de puntuaciones de ropa sexualizada por género\n",
    "clothing_sexualization_by_gender = df_merged.groupby('Gender')['Sexualized_clothing'].sum()\n",
    "print(clothing_sexualization_by_gender)"
   ]
  },
  {
   "cell_type": "markdown",
   "metadata": {},
   "source": [
    "### 1C. What are the trends, if any, when gender percentage is split by age range?"
   ]
  },
  {
   "cell_type": "code",
   "execution_count": 65,
   "metadata": {},
   "outputs": [],
   "source": [
    "\n",
    "#gender  % by age range\n",
    "gender_age_distribution = df_char.groupby(['Age_range', 'Gender']).size().unstack().fillna(0)\n",
    "gender_age_distribution_percentage = gender_age_distribution.div(gender_age_distribution.sum(axis=1), axis=0) * 100\n",
    "\n",
    "\n"
   ]
  },
  {
   "cell_type": "markdown",
   "metadata": {},
   "source": [
    "Visual % - age"
   ]
  },
  {
   "cell_type": "code",
   "execution_count": 66,
   "metadata": {},
   "outputs": [
    {
     "data": {
      "text/plain": [
       "<Figure size 1000x600 with 0 Axes>"
      ]
     },
     "metadata": {},
     "output_type": "display_data"
    },
    {
     "data": {
      "image/png": "[encoded data removed]",
      "text/plain": [
       "<Figure size 640x480 with 1 Axes>"
      ]
     },
     "metadata": {},
     "output_type": "display_data"
    }
   ],
   "source": [
    "# Visualization of gender percentage by age range with the legend further down to make 'Adult' readable\n",
    "plt.figure(figsize=(10, 6))\n",
    "gender_age_distribution_percentage.plot(kind='bar', stacked=True)\n",
    "plt.title('Gender Percentage by Age Range')\n",
    "plt.xlabel('Age Range')\n",
    "plt.ylabel('Percentage')\n",
    "plt.legend(title='Gender', loc='lower left', bbox_to_anchor=(-0.1, -0.35))\n",
    "plt.show()\n"
   ]
  },
  {
   "cell_type": "markdown",
   "metadata": {},
   "source": [
    "### 2C. Playable character probability by gender"
   ]
  },
  {
   "cell_type": "code",
   "execution_count": 67,
   "metadata": {},
   "outputs": [],
   "source": [
    "playable_gender_distribution = df_char.groupby(['Gender', 'Playable']).size().unstack().fillna(0)\n",
    "playable_gender_percentage = playable_gender_distribution.div(playable_gender_distribution.sum(axis=1), axis=0) * 100"
   ]
  },
  {
   "cell_type": "code",
   "execution_count": 68,
   "metadata": {},
   "outputs": [
    {
     "data": {
      "text/plain": [
       "<Figure size 1000x600 with 0 Axes>"
      ]
     },
     "metadata": {},
     "output_type": "display_data"
    },
    {
     "data": {
      "image/png": "[encoded data removed]",
      "text/plain": [
       "<Figure size 640x480 with 1 Axes>"
      ]
     },
     "metadata": {},
     "output_type": "display_data"
    }
   ],
   "source": [
    "#visualization\n",
    "plt.figure(figsize=(10, 6))\n",
    "playable_gender_percentage.plot(kind='bar', stacked=True)\n",
    "plt.title('Playable Character Probability by Gender')\n",
    "plt.xlabel('Gender')\n",
    "plt.ylabel('Percentage')\n",
    "plt.legend(title='Playable', loc='lower left', bbox_to_anchor=(-0.1, -0.35))\n",
    "plt.show()"
   ]
  },
  {
   "cell_type": "markdown",
   "metadata": {},
   "source": [
    "### 3C. General pattern in sexualization by gender"
   ]
  },
  {
   "cell_type": "code",
   "execution_count": 69,
   "metadata": {},
   "outputs": [],
   "source": [
    "gender_sexualization = df_char.groupby('Gender')['Sexualization_total'].mean()"
   ]
  },
  {
   "cell_type": "code",
   "execution_count": 70,
   "metadata": {},
   "outputs": [
    {
     "data": {
      "image/png": "[encoded data removed]",
      "text/plain": [
       "<Figure size 1000x600 with 1 Axes>"
      ]
     },
     "metadata": {},
     "output_type": "display_data"
    }
   ],
   "source": [
    "plt.figure(figsize=(10, 6))\n",
    "gender_sexualization.plot(kind='bar')\n",
    "plt.title('General Pattern in Sexualization by Gender')\n",
    "plt.xlabel('Gender')\n",
    "plt.ylabel('Average Sexualization')\n",
    "plt.show()"
   ]
  },
  {
   "cell_type": "markdown",
   "metadata": {},
   "source": []
  },
  {
   "cell_type": "markdown",
   "metadata": {},
   "source": [
    "# SEXUALIZATION DATA QUESTIONS."
   ]
  },
  {
   "cell_type": "code",
   "execution_count": 74,
   "metadata": {},
   "outputs": [
    {
     "data": {
      "text/plain": [
       "Index(['Id', 'Sexualized_clothing', 'Trophy', 'Damsel in Distress',\n",
       "       'Sexualized Cutscenes', 'Total'],\n",
       "      dtype='object')"
      ]
     },
     "execution_count": 74,
     "metadata": {},
     "output_type": "execute_result"
    }
   ],
   "source": [
    "df_char.columns\n",
    "df_sex.columns"
   ]
  },
  {
   "cell_type": "code",
   "execution_count": 89,
   "metadata": {},
   "outputs": [],
   "source": [
    "# Merging 2 dataframes\n",
    "df_merged = pd.merge(df_char, df_sex, left_on='Id', right_on='Id')\n",
    "# df_merged"
   ]
  },
  {
   "cell_type": "markdown",
   "metadata": {},
   "source": []
  },
  {
   "cell_type": "markdown",
   "metadata": {},
   "source": [
    "### 1Q.S. Merging character and sexualization tables, when grouped by gender, what can we learn about designers clothing choices for characters? Which (if any) gender is most likely to wear sexualized clothing?"
   ]
  },
  {
   "cell_type": "code",
   "execution_count": 83,
   "metadata": {},
   "outputs": [],
   "source": [
    "gender_sexualized_clothing = df_merged.groupby('Gender')['Sexualized_clothing'].mean()\n",
    "# gender_sexualized_clothing"
   ]
  },
  {
   "cell_type": "markdown",
   "metadata": {},
   "source": [
    "#### visualization of gender most likely to wear sexualized clothing:"
   ]
  },
  {
   "cell_type": "code",
   "execution_count": 77,
   "metadata": {},
   "outputs": [
    {
     "data": {
      "image/png": "[encoded data removed]",
      "text/plain": [
       "<Figure size 1000x600 with 1 Axes>"
      ]
     },
     "metadata": {},
     "output_type": "display_data"
    }
   ],
   "source": [
    "plt.figure(figsize=(10, 6))\n",
    "gender_sexualized_clothing.plot(kind='bar')\n",
    "plt.title('Likelihood of Wearing Sexualized Clothing by Gender')\n",
    "plt.xlabel('Gender')\n",
    "plt.ylabel('Proportion Wearing Sexualized Clothing')\n",
    "plt.show()"
   ]
  },
  {
   "cell_type": "markdown",
   "metadata": {},
   "source": [
    "### 2Q.S. From what games comes non_binary characters ? Merging with countries that have more non-binary countries.\n"
   ]
  },
  {
   "cell_type": "code",
   "execution_count": 82,
   "metadata": {},
   "outputs": [],
   "source": [
    "#New variable df : non_binary_games\n",
    "non_binary_games = df_merged[df_merged['Gender'] == 'Non-binary']['Game'].value_counts()"
   ]
  },
  {
   "cell_type": "markdown",
   "metadata": {},
   "source": [
    "#### visualization non_binary_games"
   ]
  },
  {
   "cell_type": "code",
   "execution_count": 81,
   "metadata": {},
   "outputs": [
    {
     "data": {
      "image/png": "[encoded data removed]",
      "text/plain": [
       "<Figure size 1000x600 with 1 Axes>"
      ]
     },
     "metadata": {},
     "output_type": "display_data"
    }
   ],
   "source": [
    "plt.figure(figsize=(10, 6))\n",
    "non_binary_games.plot(kind='bar')\n",
    "plt.title('Games with Non-binary Characters')\n",
    "plt.xlabel('Game')\n",
    "plt.ylabel('Count of Non-binary Characters')\n",
    "plt.show()"
   ]
  },
  {
   "cell_type": "markdown",
   "metadata": {},
   "source": [
    "### 3Q.S. Through the years which year had the most sexualized clothing?"
   ]
  },
  {
   "cell_type": "code",
   "execution_count": 92,
   "metadata": {},
   "outputs": [
    {
     "data": {
      "text/plain": [
       "Series([], Name: Sexualized_clothing, dtype: int64)"
      ]
     },
     "execution_count": 92,
     "metadata": {},
     "output_type": "execute_result"
    }
   ],
   "source": [
    "year_sexualized_clothing = df_merged.groupby('Year')['Sexualized_clothing'].sum()\n",
    "# year_sexualized_clothing"
   ]
  },
  {
   "cell_type": "code",
   "execution_count": 106,
   "metadata": {},
   "outputs": [
    {
     "data": {
      "image/png": "[encoded data removed]",
      "text/plain": [
       "<Figure size 1000x600 with 1 Axes>"
      ]
     },
     "metadata": {},
     "output_type": "display_data"
    }
   ],
   "source": [
    "\n",
    "plt.figure(figsize=(10, 6))\n",
    "year_sexualized_clothing.plot(kind='bar')\n",
    "plt.title('Most Sexualized Clothing by Year')\n",
    "plt.xlabel('Year')\n",
    "plt.ylabel('Count of Sexualized Clothing')\n",
    "plt.show()"
   ]
  },
  {
   "cell_type": "markdown",
   "metadata": {},
   "source": []
  }
 ],
 "metadata": {
  "kernelspec": {
   "display_name": "Python 3",
   "language": "python",
   "name": "python3"
  },
  "language_info": {
   "codemirror_mode": {
    "name": "ipython",
    "version": 3
   },
   "file_extension": ".py",
   "mimetype": "text/x-python",
   "name": "python",
   "nbconvert_exporter": "python",
   "pygments_lexer": "ipython3",
   "version": "3.12.5"
  }
 },
 "nbformat": 4,
 "nbformat_minor": 2
}
