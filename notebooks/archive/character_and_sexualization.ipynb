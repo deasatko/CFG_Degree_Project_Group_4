{
 "cells": [
  {
   "cell_type": "code",
   "execution_count": 2,
   "metadata": {},
   "outputs": [
    {
     "ename": "ModuleNotFoundError",
     "evalue": "No module named 'pandas'",
     "output_type": "error",
     "traceback": [
      "\u001b[0;31m---------------------------------------------------------------------------\u001b[0m",
      "\u001b[0;31mModuleNotFoundError\u001b[0m                       Traceback (most recent call last)",
      "Cell \u001b[0;32mIn [2], line 1\u001b[0m\n\u001b[0;32m----> 1\u001b[0m \u001b[38;5;28;01mimport\u001b[39;00m \u001b[38;5;21;01mpandas\u001b[39;00m \u001b[38;5;28;01mas\u001b[39;00m \u001b[38;5;21;01mpd\u001b[39;00m\n\u001b[1;32m      2\u001b[0m \u001b[38;5;28;01mimport\u001b[39;00m \u001b[38;5;21;01mnumpy\u001b[39;00m \u001b[38;5;28;01mas\u001b[39;00m \u001b[38;5;21;01mnp\u001b[39;00m\n\u001b[1;32m      3\u001b[0m \u001b[38;5;28;01mimport\u001b[39;00m \u001b[38;5;21;01mmatplotlib\u001b[39;00m\u001b[38;5;21;01m.\u001b[39;00m\u001b[38;5;21;01mpyplot\u001b[39;00m \u001b[38;5;28;01mas\u001b[39;00m \u001b[38;5;21;01mpyplot\u001b[39;00m\n",
      "\u001b[0;31mModuleNotFoundError\u001b[0m: No module named 'pandas'"
     ]
    }
   ],
   "source": [
    "import pandas as pd\n",
    "import numpy as np\n",
    "import matplotlib.pyplot as pyplot\n",
    "import seaborn as sns\n",
    "import datetime\n",
    "import os"
   ]
  },
  {
   "cell_type": "code",
   "execution_count": null,
   "metadata": {},
   "outputs": [],
   "source": [
    "# df_char = pd.read_csv(\"C:\\\\Users\\\\gnchu\\\\Downloads\\\\cleaned data\\\\cleaned_characters(1).csv\")\n",
    "# df_sex = pd.read_csv(\"C:\\\\Users\\\\gnchu\\\\Downloads\\\\cleaned data\\\\cleaned_sexualization.csv\")\n",
    "# '/home/simonet/CFG_Project_G4/CFG_Degree_Project_Group_4/notebooks/archive/cleaned_characters.csv"
   ]
  },
  {
   "cell_type": "code",
   "execution_count": null,
   "metadata": {},
   "outputs": [],
   "source": [
    "df_char = pd.read_csv('cleaned_characters.csv')\n",
    "df_char"
   ]
  },
  {
   "cell_type": "code",
   "execution_count": null,
   "metadata": {},
   "outputs": [],
   "source": [
    "df_sex = pd.read_csv(\"cleaned_sexualization.csv\")\n",
    "df_sex"
   ]
  },
  {
   "cell_type": "code",
   "execution_count": null,
   "metadata": {},
   "outputs": [],
   "source": [
    "f\"Character data (row, columns): {df_char.shape} and Sexualization data (row,columns): df_sex.shape\""
   ]
  },
  {
   "cell_type": "code",
   "execution_count": null,
   "metadata": {},
   "outputs": [],
   "source": [
    "df_sex.dtypes"
   ]
  },
  {
   "cell_type": "code",
   "execution_count": null,
   "metadata": {},
   "outputs": [],
   "source": [
    "df_char.dtypes"
   ]
  },
  {
   "cell_type": "code",
   "execution_count": null,
   "metadata": {},
   "outputs": [],
   "source": [
    "df_sex.describe()"
   ]
  },
  {
   "cell_type": "markdown",
   "metadata": {},
   "source": [
    "## The key insights gained from describe() function being:\n",
    "* The averages are low, with a wide spread from the mean/average\n",
    "* The standard deviation is fairly wide meaning there is a large spread amongst characters\n",
    "* Low instance of sexualization, but a wide variation within characters for sexualization categories.\n",
    "* Of the four categories for sexualization, no character is classed as meeting all four criteria, with three being the maximum.\n"
   ]
  },
  {
   "cell_type": "code",
   "execution_count": null,
   "metadata": {},
   "outputs": [],
   "source": [
    "df_char.describe()"
   ]
  },
  {
   "cell_type": "markdown",
   "metadata": {},
   "source": [
    "* There is a playable mean of 0.19.\n",
    "* There is a sexualization mean of 0.86.\n",
    "* What can we get from standard deviation?"
   ]
  },
  {
   "cell_type": "markdown",
   "metadata": {},
   "source": [
    "Insight: \n",
    "* The split between male and female is almost half, which is refreshing to see, although the data set could be made larger with more recent data, it may be indicative of increase interest amongst non-males in gaming.\n",
    "* There is a significant unrepresentation of non-binary characters, this may be due to concepts such as non-binary being culturally salient in certain cultures only. Game developers/ designers may not conceive of non- binary terms around gender in the same manner.\n"
   ]
  },
  {
   "cell_type": "code",
   "execution_count": null,
   "metadata": {},
   "outputs": [],
   "source": [
    "df_char.head(5)"
   ]
  },
  {
   "cell_type": "markdown",
   "metadata": {},
   "source": [
    "I don't agree with zelda as no trophy, also she's kidnapped"
   ]
  },
  {
   "cell_type": "code",
   "execution_count": null,
   "metadata": {},
   "outputs": [],
   "source": [
    "df_sex.head(5)"
   ]
  },
  {
   "cell_type": "code",
   "execution_count": null,
   "metadata": {},
   "outputs": [],
   "source": [
    "df_char['Gender'].value_counts()"
   ]
  },
  {
   "cell_type": "code",
   "execution_count": null,
   "metadata": {},
   "outputs": [],
   "source": [
    "gender_percent = df_char['Gender'].value_counts(normalize = True)\n",
    "\n",
    "full_percent = round(gender_percent * 100,2).astype(float)\n",
    "\n",
    "full_percent_formatted = full_percent.apply(lambda x: f\"{x:}%\") # lambda explain\n",
    "\n",
    "full_percent_formatted"
   ]
  },
  {
   "cell_type": "markdown",
   "metadata": {},
   "source": [
    "### What are the trends, if any, when gender percentage is split by age range?"
   ]
  },
  {
   "cell_type": "code",
   "execution_count": null,
   "metadata": {},
   "outputs": [],
   "source": [
    "gender_age = df_char[['Gender', 'Age_range']]\n",
    "gender_age.head(3)"
   ]
  },
  {
   "cell_type": "code",
   "execution_count": null,
   "metadata": {},
   "outputs": [],
   "source": [
    "gender_age = df_char[['Gender', 'Age_range']].value_counts(normalize = True)\n",
    "\n",
    "gender_age_percent = round(gender_age * 100,2).astype(float)\n",
    "\n",
    "gender_age_pc_format = gender_age_percent.apply(lambda x: f\"{x:}%\")\n",
    "\n",
    "gender_age_pc_format"
   ]
  },
  {
   "cell_type": "markdown",
   "metadata": {},
   "source": [
    "### Is a character more/less likely to be a playable character depending on their assigned gender?"
   ]
  },
  {
   "cell_type": "code",
   "execution_count": null,
   "metadata": {},
   "outputs": [],
   "source": [
    "df_char.columns"
   ]
  },
  {
   "cell_type": "code",
   "execution_count": null,
   "metadata": {},
   "outputs": [],
   "source": [
    "playable_gen = df_char[['Gender', 'Playable']].value_counts(normalize= True)\n",
    "\n",
    "playable_gen = round(playable_gen * 100,2).astype(float)\n",
    "\n",
    "playable_gen = playable_gen.apply(lambda x: f\"{x:}%\")\n",
    "\n",
    "playable_gen"
   ]
  },
  {
   "cell_type": "markdown",
   "metadata": {},
   "source": [
    "### Initially it was interesting that 50 % of males are non playable, just over 26% of females are non-playable, 11% of  males are playable, \n",
    "### 5% of females are playable (just under 50% comparatively), only 1.57% of non-binary characters in this dataset are playable.\n"
   ]
  },
  {
   "cell_type": "code",
   "execution_count": null,
   "metadata": {},
   "outputs": [],
   "source": [
    "play_gen_func = df_char[['Gender', 'Playable', 'Function']].value_counts(normalize=True)\n",
    "\n",
    "play_gen_func = round(play_gen_func * 100,2).astype(float)\n",
    "\n",
    "play_gen_func"
   ]
  },
  {
   "cell_type": "markdown",
   "metadata": {},
   "source": [
    "### Is there a general pattern in sexualization when we organise characters by gender? Is there a common pattern in those scoring high ( 2 - 3) for ‘sexualization_total’?"
   ]
  },
  {
   "cell_type": "code",
   "execution_count": null,
   "metadata": {},
   "outputs": [],
   "source": [
    "trend_sex_min = df_char[['Gender', 'Sexualization_total']].min() #custom, sexualization 0\n",
    "\n",
    "trend_sex_mode = df_char[['Gender', 'Sexualization_total']].mode() #male, sexualization total 0\n",
    "\n",
    "trend_sex_max = df_char[['Gender', 'Sexualization_total']].max() #non-binary sexualization total 3\n",
    "\n",
    "trend_sex_min, trend_sex_mode, trend_sex_max"
   ]
  },
  {
   "cell_type": "code",
   "execution_count": null,
   "metadata": {},
   "outputs": [],
   "source": [
    "#Only those meeting half of sexualization total \n",
    "sex_over_2 = df_char[df_char['Sexualization_total'] >= 2]\n",
    "sex_over_2"
   ]
  },
  {
   "cell_type": "code",
   "execution_count": null,
   "metadata": {},
   "outputs": [],
   "source": [
    "sex_over_2['']"
   ]
  },
  {
   "cell_type": "markdown",
   "metadata": {},
   "source": [
    "## Non-binary character focus\n",
    "* How many games did these come from\n",
    "* Which games contain non-binary characters and year of game release?\n",
    "* What species are these non-binary characters - more likely to be humanoid/non human explicitly?\n"
   ]
  },
  {
   "cell_type": "code",
   "execution_count": null,
   "metadata": {},
   "outputs": [],
   "source": [
    "#data regarding non-binary to be merged with games.csv to determine the countries these games are from:\n",
    "df_non_b = df_char[df_char['Gender'] == 'Non-binary'][['Gender', 'Game']]\n",
    "print(df_non_b)"
   ]
  },
  {
   "cell_type": "code",
   "execution_count": null,
   "metadata": {},
   "outputs": [],
   "source": []
  },
  {
   "cell_type": "markdown",
   "metadata": {},
   "source": [
    "Merging character and sexualization tables, when grouped by gender, what can we learn about designers clothing choices for characters? Which (if any) gender is most likely to wear sexualized clothing?\n",
    "Joining gender-sex_cloths and then doing a sum "
   ]
  },
  {
   "cell_type": "code",
   "execution_count": null,
   "metadata": {},
   "outputs": [],
   "source": [
    "df_sex.rename(columns={'character_id': 'Id'}, inplace=True)\n",
    "print(df_Char.columns)\n",
    "print(df_sex.columns)\n"
   ]
  },
  {
   "cell_type": "markdown",
   "metadata": {},
   "source": [
    "# Merging character and sexualization tables, when grouped by gender, what can we learn about designers clothing choices for characters? Which (if any) gender is most likely to wear sexualized clothing?\n",
    "\n",
    "### Doing % of this data could be interesting"
   ]
  },
  {
   "cell_type": "code",
   "execution_count": null,
   "metadata": {},
   "outputs": [],
   "source": [
    "df_merged = pd.merge(df_Char, df_sex, on='Id')\n",
    "\n",
    "# Calcular el promedio de puntuaciones de ropa sexualizada por género\n",
    "clothing_sexualization_by_gender = df_merged.groupby('Gender')['Sexualized_clothing'].sum()\n",
    "print(clothing_sexualization_by_gender)"
   ]
  },
  {
   "cell_type": "markdown",
   "metadata": {},
   "source": [
    "We have 393 males characters and only 2 of those have been sexualized clothes.\n",
    "In other hand we have 203 female characters we have a total of 17 who have sexualized clothes."
   ]
  },
  {
   "cell_type": "markdown",
   "metadata": {},
   "source": [
    "Through the years which year had the most sexualized clothing? "
   ]
  },
  {
   "cell_type": "markdown",
   "metadata": {},
   "source": [
    "### 1. What are the trends, if any, when gender percentage is split by age range?\n"
   ]
  },
  {
   "cell_type": "code",
   "execution_count": null,
   "metadata": {},
   "outputs": [],
   "source": [
    "age_gender = df_Char[['Gender', 'Age_range']].value_counts()\n",
    "age_gender"
   ]
  },
  {
   "cell_type": "code",
   "execution_count": null,
   "metadata": {},
   "outputs": [],
   "source": [
    "series_age = pd.Series(df_char ['Age_range'])\n",
    "\n",
    "total_age = series_age.value_counts()\n",
    "#total_gender = series.value_counts().groupby('Gender').sum()\n",
    "\n",
    "\n",
    "percentage_age = (series_age.value_counts()/total_age * 100)\n",
    "percentage_age"
   ]
  },
  {
   "cell_type": "code",
   "execution_count": null,
   "metadata": {},
   "outputs": [],
   "source": [
    "# print(df_Char.columns)\n",
    "# print(df_sex.columns)\n",
    "\n",
    "# df_1Q = df_Char[['Gender', 'Age_range']]\n",
    "# df_1Q\n",
    "# df_index_1Q = df_Char.set_index('Gender', inplace = True)\n",
    "df_Char\n"
   ]
  }
 ],
 "metadata": {
  "kernelspec": {
   "display_name": "Python 3 (ipykernel)",
   "language": "python",
   "name": "python3"
  },
  "language_info": {
   "codemirror_mode": {
    "name": "ipython",
    "version": 3
   },
   "file_extension": ".py",
   "mimetype": "text/x-python",
   "name": "python",
   "nbconvert_exporter": "python",
   "pygments_lexer": "ipython3",
   "version": "3.11.2"
  }
 },
 "nbformat": 4,
 "nbformat_minor": 4
}
