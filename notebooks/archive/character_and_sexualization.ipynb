{
 "cells": [
  {
   "cell_type": "code",
   "execution_count": 1,
   "metadata": {},
   "outputs": [],
   "source": [
    "import pandas as pd\n",
    "import numpy as np\n",
    "import matplotlib.pyplot as plt\n",
    "import seaborn as sns\n",
    "import datetime\n",
    "import os"
   ]
  },
  {
   "cell_type": "code",
   "execution_count": 2,
   "metadata": {},
   "outputs": [],
   "source": [
    "# df_char = pd.read_csv(\"C:\\\\Users\\\\gnchu\\\\Downloads\\\\cleaned data\\\\cleaned_characters(1).csv\")\n",
    "# df_sex = pd.read_csv(\"C:\\\\Users\\\\gnchu\\\\Downloads\\\\cleaned data\\\\cleaned_sexualization.csv\")\n",
    "# '/home/simonet/CFG_Project_G4/CFG_Degree_Project_Group_4/notebooks/archive/cleaned_characters.csv"
   ]
  },
  {
   "cell_type": "code",
   "execution_count": 3,
   "metadata": {},
   "outputs": [
    {
     "data": {
      "text/html": [
       "<div>\n",
       "<style scoped>\n",
       "    .dataframe tbody tr th:only-of-type {\n",
       "        vertical-align: middle;\n",
       "    }\n",
       "\n",
       "    .dataframe tbody tr th {\n",
       "        vertical-align: top;\n",
       "    }\n",
       "\n",
       "    .dataframe thead th {\n",
       "        text-align: right;\n",
       "    }\n",
       "</style>\n",
       "<table border=\"1\" class=\"dataframe\">\n",
       "  <thead>\n",
       "    <tr style=\"text-align: right;\">\n",
       "      <th></th>\n",
       "      <th>Name</th>\n",
       "      <th>Gender</th>\n",
       "      <th>Game</th>\n",
       "      <th>Age_range</th>\n",
       "      <th>Playable</th>\n",
       "      <th>Sexualization_total</th>\n",
       "      <th>Id</th>\n",
       "      <th>Species</th>\n",
       "      <th>Alliance</th>\n",
       "      <th>Function</th>\n",
       "      <th>Romantic_Interest</th>\n",
       "    </tr>\n",
       "  </thead>\n",
       "  <tbody>\n",
       "    <tr>\n",
       "      <th>0</th>\n",
       "      <td>Farah</td>\n",
       "      <td>Female</td>\n",
       "      <td>CODMW</td>\n",
       "      <td>Adult</td>\n",
       "      <td>1</td>\n",
       "      <td>0</td>\n",
       "      <td>CODMW_Farah</td>\n",
       "      <td>Human</td>\n",
       "      <td>Protagonist</td>\n",
       "      <td>PA</td>\n",
       "      <td>0</td>\n",
       "    </tr>\n",
       "    <tr>\n",
       "      <th>1</th>\n",
       "      <td>Protagonist</td>\n",
       "      <td>Custom</td>\n",
       "      <td>PSS</td>\n",
       "      <td>Teenager</td>\n",
       "      <td>1</td>\n",
       "      <td>0</td>\n",
       "      <td>PSS_Protagonist</td>\n",
       "      <td>Human</td>\n",
       "      <td>Protagonist</td>\n",
       "      <td>PA</td>\n",
       "      <td>0</td>\n",
       "    </tr>\n",
       "    <tr>\n",
       "      <th>2</th>\n",
       "      <td>Magnolia</td>\n",
       "      <td>Female</td>\n",
       "      <td>PSS</td>\n",
       "      <td>Elderly</td>\n",
       "      <td>0</td>\n",
       "      <td>0</td>\n",
       "      <td>PSS_Magnolia</td>\n",
       "      <td>Human</td>\n",
       "      <td>Protagonist</td>\n",
       "      <td>SC</td>\n",
       "      <td>0</td>\n",
       "    </tr>\n",
       "    <tr>\n",
       "      <th>3</th>\n",
       "      <td>Sonia</td>\n",
       "      <td>Female</td>\n",
       "      <td>PSS</td>\n",
       "      <td>Adult</td>\n",
       "      <td>0</td>\n",
       "      <td>0</td>\n",
       "      <td>PSS_Sonia</td>\n",
       "      <td>Human</td>\n",
       "      <td>Protagonist</td>\n",
       "      <td>SC</td>\n",
       "      <td>0</td>\n",
       "    </tr>\n",
       "    <tr>\n",
       "      <th>4</th>\n",
       "      <td>Marnie</td>\n",
       "      <td>Female</td>\n",
       "      <td>PSS</td>\n",
       "      <td>Teenager</td>\n",
       "      <td>0</td>\n",
       "      <td>0</td>\n",
       "      <td>PSS_Marnie</td>\n",
       "      <td>Human</td>\n",
       "      <td>Both</td>\n",
       "      <td>MC</td>\n",
       "      <td>0</td>\n",
       "    </tr>\n",
       "    <tr>\n",
       "      <th>...</th>\n",
       "      <td>...</td>\n",
       "      <td>...</td>\n",
       "      <td>...</td>\n",
       "      <td>...</td>\n",
       "      <td>...</td>\n",
       "      <td>...</td>\n",
       "      <td>...</td>\n",
       "      <td>...</td>\n",
       "      <td>...</td>\n",
       "      <td>...</td>\n",
       "      <td>...</td>\n",
       "    </tr>\n",
       "    <tr>\n",
       "      <th>632</th>\n",
       "      <td>Beni</td>\n",
       "      <td>Male</td>\n",
       "      <td>KBOS</td>\n",
       "      <td>Infant</td>\n",
       "      <td>0</td>\n",
       "      <td>0</td>\n",
       "      <td>KBOS_Beni</td>\n",
       "      <td>Human</td>\n",
       "      <td>Protagonist</td>\n",
       "      <td>SC</td>\n",
       "      <td>0</td>\n",
       "    </tr>\n",
       "    <tr>\n",
       "      <th>633</th>\n",
       "      <td>Taro</td>\n",
       "      <td>Male</td>\n",
       "      <td>KBOS</td>\n",
       "      <td>Child</td>\n",
       "      <td>0</td>\n",
       "      <td>0</td>\n",
       "      <td>KBOS_Taro</td>\n",
       "      <td>Human</td>\n",
       "      <td>Protagonist</td>\n",
       "      <td>SC</td>\n",
       "      <td>0</td>\n",
       "    </tr>\n",
       "    <tr>\n",
       "      <th>634</th>\n",
       "      <td>Rusu</td>\n",
       "      <td>Male</td>\n",
       "      <td>KBOS</td>\n",
       "      <td>Adult</td>\n",
       "      <td>0</td>\n",
       "      <td>0</td>\n",
       "      <td>KBOS_Rusu</td>\n",
       "      <td>Human</td>\n",
       "      <td>Protagonist</td>\n",
       "      <td>SC</td>\n",
       "      <td>0</td>\n",
       "    </tr>\n",
       "    <tr>\n",
       "      <th>635</th>\n",
       "      <td>Adira</td>\n",
       "      <td>Female</td>\n",
       "      <td>KBOS</td>\n",
       "      <td>Adult</td>\n",
       "      <td>0</td>\n",
       "      <td>0</td>\n",
       "      <td>KBOS_Adira</td>\n",
       "      <td>Human</td>\n",
       "      <td>Protagonist</td>\n",
       "      <td>SC</td>\n",
       "      <td>0</td>\n",
       "    </tr>\n",
       "    <tr>\n",
       "      <th>636</th>\n",
       "      <td>Hana</td>\n",
       "      <td>Female</td>\n",
       "      <td>KBOS</td>\n",
       "      <td>Adult</td>\n",
       "      <td>0</td>\n",
       "      <td>0</td>\n",
       "      <td>KBOS_Hana</td>\n",
       "      <td>Human</td>\n",
       "      <td>Protagonist</td>\n",
       "      <td>SC</td>\n",
       "      <td>0</td>\n",
       "    </tr>\n",
       "  </tbody>\n",
       "</table>\n",
       "<p>637 rows × 11 columns</p>\n",
       "</div>"
      ],
      "text/plain": [
       "            Name  Gender   Game Age_range  Playable  Sexualization_total  \\\n",
       "0          Farah  Female  CODMW     Adult         1                    0   \n",
       "1    Protagonist  Custom    PSS  Teenager         1                    0   \n",
       "2       Magnolia  Female    PSS   Elderly         0                    0   \n",
       "3          Sonia  Female    PSS     Adult         0                    0   \n",
       "4         Marnie  Female    PSS  Teenager         0                    0   \n",
       "..           ...     ...    ...       ...       ...                  ...   \n",
       "632         Beni    Male   KBOS    Infant         0                    0   \n",
       "633         Taro    Male   KBOS     Child         0                    0   \n",
       "634         Rusu    Male   KBOS     Adult         0                    0   \n",
       "635        Adira  Female   KBOS     Adult         0                    0   \n",
       "636         Hana  Female   KBOS     Adult         0                    0   \n",
       "\n",
       "                  Id Species     Alliance Function  Romantic_Interest  \n",
       "0        CODMW_Farah   Human  Protagonist       PA                  0  \n",
       "1    PSS_Protagonist   Human  Protagonist       PA                  0  \n",
       "2       PSS_Magnolia   Human  Protagonist       SC                  0  \n",
       "3          PSS_Sonia   Human  Protagonist       SC                  0  \n",
       "4         PSS_Marnie   Human         Both       MC                  0  \n",
       "..               ...     ...          ...      ...                ...  \n",
       "632        KBOS_Beni   Human  Protagonist       SC                  0  \n",
       "633        KBOS_Taro   Human  Protagonist       SC                  0  \n",
       "634        KBOS_Rusu   Human  Protagonist       SC                  0  \n",
       "635       KBOS_Adira   Human  Protagonist       SC                  0  \n",
       "636        KBOS_Hana   Human  Protagonist       SC                  0  \n",
       "\n",
       "[637 rows x 11 columns]"
      ]
     },
     "execution_count": 3,
     "metadata": {},
     "output_type": "execute_result"
    }
   ],
   "source": [
    "df_char = pd.read_csv('cleaned_characters.csv')\n",
    "df_char"
   ]
  },
  {
   "cell_type": "code",
   "execution_count": 4,
   "metadata": {},
   "outputs": [
    {
     "data": {
      "text/html": [
       "<div>\n",
       "<style scoped>\n",
       "    .dataframe tbody tr th:only-of-type {\n",
       "        vertical-align: middle;\n",
       "    }\n",
       "\n",
       "    .dataframe tbody tr th {\n",
       "        vertical-align: top;\n",
       "    }\n",
       "\n",
       "    .dataframe thead th {\n",
       "        text-align: right;\n",
       "    }\n",
       "</style>\n",
       "<table border=\"1\" class=\"dataframe\">\n",
       "  <thead>\n",
       "    <tr style=\"text-align: right;\">\n",
       "      <th></th>\n",
       "      <th>character_id</th>\n",
       "      <th>Sexualized_clothing</th>\n",
       "      <th>Trophy</th>\n",
       "      <th>Damsel in Distress</th>\n",
       "      <th>Sexualized Cutscenes</th>\n",
       "      <th>Total</th>\n",
       "    </tr>\n",
       "  </thead>\n",
       "  <tbody>\n",
       "    <tr>\n",
       "      <th>0</th>\n",
       "      <td>CODMW_Farah</td>\n",
       "      <td>0</td>\n",
       "      <td>0</td>\n",
       "      <td>0</td>\n",
       "      <td>0</td>\n",
       "      <td>0</td>\n",
       "    </tr>\n",
       "    <tr>\n",
       "      <th>1</th>\n",
       "      <td>PSS_Protagonist</td>\n",
       "      <td>0</td>\n",
       "      <td>0</td>\n",
       "      <td>0</td>\n",
       "      <td>0</td>\n",
       "      <td>0</td>\n",
       "    </tr>\n",
       "    <tr>\n",
       "      <th>2</th>\n",
       "      <td>PSS_Magnolia</td>\n",
       "      <td>0</td>\n",
       "      <td>0</td>\n",
       "      <td>0</td>\n",
       "      <td>0</td>\n",
       "      <td>0</td>\n",
       "    </tr>\n",
       "    <tr>\n",
       "      <th>3</th>\n",
       "      <td>PSS_Sonia</td>\n",
       "      <td>0</td>\n",
       "      <td>0</td>\n",
       "      <td>0</td>\n",
       "      <td>0</td>\n",
       "      <td>0</td>\n",
       "    </tr>\n",
       "    <tr>\n",
       "      <th>4</th>\n",
       "      <td>PSS_Marnie</td>\n",
       "      <td>0</td>\n",
       "      <td>0</td>\n",
       "      <td>0</td>\n",
       "      <td>0</td>\n",
       "      <td>0</td>\n",
       "    </tr>\n",
       "    <tr>\n",
       "      <th>...</th>\n",
       "      <td>...</td>\n",
       "      <td>...</td>\n",
       "      <td>...</td>\n",
       "      <td>...</td>\n",
       "      <td>...</td>\n",
       "      <td>...</td>\n",
       "    </tr>\n",
       "    <tr>\n",
       "      <th>632</th>\n",
       "      <td>KBOS_Beni</td>\n",
       "      <td>0</td>\n",
       "      <td>0</td>\n",
       "      <td>0</td>\n",
       "      <td>0</td>\n",
       "      <td>0</td>\n",
       "    </tr>\n",
       "    <tr>\n",
       "      <th>633</th>\n",
       "      <td>KBOS_Taro</td>\n",
       "      <td>0</td>\n",
       "      <td>0</td>\n",
       "      <td>0</td>\n",
       "      <td>0</td>\n",
       "      <td>0</td>\n",
       "    </tr>\n",
       "    <tr>\n",
       "      <th>634</th>\n",
       "      <td>KBOS_Rusu</td>\n",
       "      <td>0</td>\n",
       "      <td>0</td>\n",
       "      <td>0</td>\n",
       "      <td>0</td>\n",
       "      <td>0</td>\n",
       "    </tr>\n",
       "    <tr>\n",
       "      <th>635</th>\n",
       "      <td>KBOS_Adira</td>\n",
       "      <td>0</td>\n",
       "      <td>0</td>\n",
       "      <td>0</td>\n",
       "      <td>0</td>\n",
       "      <td>0</td>\n",
       "    </tr>\n",
       "    <tr>\n",
       "      <th>636</th>\n",
       "      <td>KBOS_Hana</td>\n",
       "      <td>0</td>\n",
       "      <td>0</td>\n",
       "      <td>0</td>\n",
       "      <td>0</td>\n",
       "      <td>0</td>\n",
       "    </tr>\n",
       "  </tbody>\n",
       "</table>\n",
       "<p>637 rows × 6 columns</p>\n",
       "</div>"
      ],
      "text/plain": [
       "        character_id  Sexualized_clothing  Trophy  Damsel in Distress  \\\n",
       "0        CODMW_Farah                    0       0                   0   \n",
       "1    PSS_Protagonist                    0       0                   0   \n",
       "2       PSS_Magnolia                    0       0                   0   \n",
       "3          PSS_Sonia                    0       0                   0   \n",
       "4         PSS_Marnie                    0       0                   0   \n",
       "..               ...                  ...     ...                 ...   \n",
       "632        KBOS_Beni                    0       0                   0   \n",
       "633        KBOS_Taro                    0       0                   0   \n",
       "634        KBOS_Rusu                    0       0                   0   \n",
       "635       KBOS_Adira                    0       0                   0   \n",
       "636        KBOS_Hana                    0       0                   0   \n",
       "\n",
       "     Sexualized Cutscenes  Total  \n",
       "0                       0      0  \n",
       "1                       0      0  \n",
       "2                       0      0  \n",
       "3                       0      0  \n",
       "4                       0      0  \n",
       "..                    ...    ...  \n",
       "632                     0      0  \n",
       "633                     0      0  \n",
       "634                     0      0  \n",
       "635                     0      0  \n",
       "636                     0      0  \n",
       "\n",
       "[637 rows x 6 columns]"
      ]
     },
     "execution_count": 4,
     "metadata": {},
     "output_type": "execute_result"
    }
   ],
   "source": [
    "df_sex = pd.read_csv(\"cleaned_sexualization.csv\")\n",
    "df_sex"
   ]
  },
  {
   "cell_type": "code",
   "execution_count": 5,
   "metadata": {},
   "outputs": [
    {
     "data": {
      "text/plain": [
       "'Character data (row, columns): (637, 11) and Sexualization data (row,columns): df_sex.shape'"
      ]
     },
     "execution_count": 5,
     "metadata": {},
     "output_type": "execute_result"
    }
   ],
   "source": [
    "f\"Character data (row, columns): {df_char.shape} and Sexualization data (row,columns): df_sex.shape\""
   ]
  },
  {
   "cell_type": "code",
   "execution_count": 6,
   "metadata": {},
   "outputs": [
    {
     "data": {
      "text/plain": [
       "character_id            object\n",
       "Sexualized_clothing      int64\n",
       "Trophy                   int64\n",
       "Damsel in Distress       int64\n",
       "Sexualized Cutscenes     int64\n",
       "Total                    int64\n",
       "dtype: object"
      ]
     },
     "execution_count": 6,
     "metadata": {},
     "output_type": "execute_result"
    }
   ],
   "source": [
    "df_sex.dtypes"
   ]
  },
  {
   "cell_type": "code",
   "execution_count": 7,
   "metadata": {},
   "outputs": [
    {
     "data": {
      "text/plain": [
       "Name                   object\n",
       "Gender                 object\n",
       "Game                   object\n",
       "Age_range              object\n",
       "Playable                int64\n",
       "Sexualization_total     int64\n",
       "Id                     object\n",
       "Species                object\n",
       "Alliance               object\n",
       "Function               object\n",
       "Romantic_Interest       int64\n",
       "dtype: object"
      ]
     },
     "execution_count": 7,
     "metadata": {},
     "output_type": "execute_result"
    }
   ],
   "source": [
    "df_char.dtypes"
   ]
  },
  {
   "cell_type": "code",
   "execution_count": 8,
   "metadata": {},
   "outputs": [
    {
     "data": {
      "text/html": [
       "<div>\n",
       "<style scoped>\n",
       "    .dataframe tbody tr th:only-of-type {\n",
       "        vertical-align: middle;\n",
       "    }\n",
       "\n",
       "    .dataframe tbody tr th {\n",
       "        vertical-align: top;\n",
       "    }\n",
       "\n",
       "    .dataframe thead th {\n",
       "        text-align: right;\n",
       "    }\n",
       "</style>\n",
       "<table border=\"1\" class=\"dataframe\">\n",
       "  <thead>\n",
       "    <tr style=\"text-align: right;\">\n",
       "      <th></th>\n",
       "      <th>Sexualized_clothing</th>\n",
       "      <th>Trophy</th>\n",
       "      <th>Damsel in Distress</th>\n",
       "      <th>Sexualized Cutscenes</th>\n",
       "      <th>Total</th>\n",
       "    </tr>\n",
       "  </thead>\n",
       "  <tbody>\n",
       "    <tr>\n",
       "      <th>count</th>\n",
       "      <td>637.000000</td>\n",
       "      <td>637.000000</td>\n",
       "      <td>637.000000</td>\n",
       "      <td>637.000000</td>\n",
       "      <td>637.000000</td>\n",
       "    </tr>\n",
       "    <tr>\n",
       "      <th>mean</th>\n",
       "      <td>0.029827</td>\n",
       "      <td>0.010989</td>\n",
       "      <td>0.028257</td>\n",
       "      <td>0.017268</td>\n",
       "      <td>0.086342</td>\n",
       "    </tr>\n",
       "    <tr>\n",
       "      <th>std</th>\n",
       "      <td>0.170244</td>\n",
       "      <td>0.104333</td>\n",
       "      <td>0.165838</td>\n",
       "      <td>0.130372</td>\n",
       "      <td>0.389022</td>\n",
       "    </tr>\n",
       "    <tr>\n",
       "      <th>min</th>\n",
       "      <td>0.000000</td>\n",
       "      <td>0.000000</td>\n",
       "      <td>0.000000</td>\n",
       "      <td>0.000000</td>\n",
       "      <td>0.000000</td>\n",
       "    </tr>\n",
       "    <tr>\n",
       "      <th>25%</th>\n",
       "      <td>0.000000</td>\n",
       "      <td>0.000000</td>\n",
       "      <td>0.000000</td>\n",
       "      <td>0.000000</td>\n",
       "      <td>0.000000</td>\n",
       "    </tr>\n",
       "    <tr>\n",
       "      <th>50%</th>\n",
       "      <td>0.000000</td>\n",
       "      <td>0.000000</td>\n",
       "      <td>0.000000</td>\n",
       "      <td>0.000000</td>\n",
       "      <td>0.000000</td>\n",
       "    </tr>\n",
       "    <tr>\n",
       "      <th>75%</th>\n",
       "      <td>0.000000</td>\n",
       "      <td>0.000000</td>\n",
       "      <td>0.000000</td>\n",
       "      <td>0.000000</td>\n",
       "      <td>0.000000</td>\n",
       "    </tr>\n",
       "    <tr>\n",
       "      <th>max</th>\n",
       "      <td>1.000000</td>\n",
       "      <td>1.000000</td>\n",
       "      <td>1.000000</td>\n",
       "      <td>1.000000</td>\n",
       "      <td>3.000000</td>\n",
       "    </tr>\n",
       "  </tbody>\n",
       "</table>\n",
       "</div>"
      ],
      "text/plain": [
       "       Sexualized_clothing      Trophy  Damsel in Distress  \\\n",
       "count           637.000000  637.000000          637.000000   \n",
       "mean              0.029827    0.010989            0.028257   \n",
       "std               0.170244    0.104333            0.165838   \n",
       "min               0.000000    0.000000            0.000000   \n",
       "25%               0.000000    0.000000            0.000000   \n",
       "50%               0.000000    0.000000            0.000000   \n",
       "75%               0.000000    0.000000            0.000000   \n",
       "max               1.000000    1.000000            1.000000   \n",
       "\n",
       "       Sexualized Cutscenes       Total  \n",
       "count            637.000000  637.000000  \n",
       "mean               0.017268    0.086342  \n",
       "std                0.130372    0.389022  \n",
       "min                0.000000    0.000000  \n",
       "25%                0.000000    0.000000  \n",
       "50%                0.000000    0.000000  \n",
       "75%                0.000000    0.000000  \n",
       "max                1.000000    3.000000  "
      ]
     },
     "execution_count": 8,
     "metadata": {},
     "output_type": "execute_result"
    }
   ],
   "source": [
    "df_sex.describe()"
   ]
  },
  {
   "cell_type": "markdown",
   "metadata": {},
   "source": [
    "## The key insights gained from describe() function being:\n",
    "* The averages are low, with a wide spread from the mean/average\n",
    "* The standard deviation is fairly wide meaning there is a large spread amongst characters\n",
    "* Low instance of sexualization, but a wide variation within characters for sexualization categories.\n",
    "* Of the four categories for sexualization, no character is classed as meeting all four criteria, with three being the maximum.\n"
   ]
  },
  {
   "cell_type": "code",
   "execution_count": 9,
   "metadata": {},
   "outputs": [
    {
     "data": {
      "text/html": [
       "<div>\n",
       "<style scoped>\n",
       "    .dataframe tbody tr th:only-of-type {\n",
       "        vertical-align: middle;\n",
       "    }\n",
       "\n",
       "    .dataframe tbody tr th {\n",
       "        vertical-align: top;\n",
       "    }\n",
       "\n",
       "    .dataframe thead th {\n",
       "        text-align: right;\n",
       "    }\n",
       "</style>\n",
       "<table border=\"1\" class=\"dataframe\">\n",
       "  <thead>\n",
       "    <tr style=\"text-align: right;\">\n",
       "      <th></th>\n",
       "      <th>Playable</th>\n",
       "      <th>Sexualization_total</th>\n",
       "      <th>Romantic_Interest</th>\n",
       "    </tr>\n",
       "  </thead>\n",
       "  <tbody>\n",
       "    <tr>\n",
       "      <th>count</th>\n",
       "      <td>637.000000</td>\n",
       "      <td>637.000000</td>\n",
       "      <td>637.000000</td>\n",
       "    </tr>\n",
       "    <tr>\n",
       "      <th>mean</th>\n",
       "      <td>0.193093</td>\n",
       "      <td>0.086342</td>\n",
       "      <td>0.124019</td>\n",
       "    </tr>\n",
       "    <tr>\n",
       "      <th>std</th>\n",
       "      <td>0.395035</td>\n",
       "      <td>0.389022</td>\n",
       "      <td>0.454195</td>\n",
       "    </tr>\n",
       "    <tr>\n",
       "      <th>min</th>\n",
       "      <td>0.000000</td>\n",
       "      <td>0.000000</td>\n",
       "      <td>0.000000</td>\n",
       "    </tr>\n",
       "    <tr>\n",
       "      <th>25%</th>\n",
       "      <td>0.000000</td>\n",
       "      <td>0.000000</td>\n",
       "      <td>0.000000</td>\n",
       "    </tr>\n",
       "    <tr>\n",
       "      <th>50%</th>\n",
       "      <td>0.000000</td>\n",
       "      <td>0.000000</td>\n",
       "      <td>0.000000</td>\n",
       "    </tr>\n",
       "    <tr>\n",
       "      <th>75%</th>\n",
       "      <td>0.000000</td>\n",
       "      <td>0.000000</td>\n",
       "      <td>0.000000</td>\n",
       "    </tr>\n",
       "    <tr>\n",
       "      <th>max</th>\n",
       "      <td>1.000000</td>\n",
       "      <td>3.000000</td>\n",
       "      <td>2.000000</td>\n",
       "    </tr>\n",
       "  </tbody>\n",
       "</table>\n",
       "</div>"
      ],
      "text/plain": [
       "         Playable  Sexualization_total  Romantic_Interest\n",
       "count  637.000000           637.000000         637.000000\n",
       "mean     0.193093             0.086342           0.124019\n",
       "std      0.395035             0.389022           0.454195\n",
       "min      0.000000             0.000000           0.000000\n",
       "25%      0.000000             0.000000           0.000000\n",
       "50%      0.000000             0.000000           0.000000\n",
       "75%      0.000000             0.000000           0.000000\n",
       "max      1.000000             3.000000           2.000000"
      ]
     },
     "execution_count": 9,
     "metadata": {},
     "output_type": "execute_result"
    }
   ],
   "source": [
    "df_char.describe()"
   ]
  },
  {
   "cell_type": "markdown",
   "metadata": {},
   "source": [
    "* There is a playable mean of 0.19.\n",
    "* There is a sexualization mean of 0.86.\n",
    "* What can we get from standard deviation?"
   ]
  },
  {
   "cell_type": "markdown",
   "metadata": {},
   "source": [
    "Insight: \n",
    "* The split between male and female is almost half, which is refreshing to see, although the data set could be made larger with more recent data, it may be indicative of increase interest amongst non-males in gaming.\n",
    "* There is a significant unrepresentation of non-binary characters, this may be due to concepts such as non-binary being culturally salient in certain cultures only. Game developers/ designers may not conceive of non- binary terms around gender in the same manner.\n"
   ]
  },
  {
   "cell_type": "code",
   "execution_count": 10,
   "metadata": {},
   "outputs": [
    {
     "data": {
      "text/html": [
       "<div>\n",
       "<style scoped>\n",
       "    .dataframe tbody tr th:only-of-type {\n",
       "        vertical-align: middle;\n",
       "    }\n",
       "\n",
       "    .dataframe tbody tr th {\n",
       "        vertical-align: top;\n",
       "    }\n",
       "\n",
       "    .dataframe thead th {\n",
       "        text-align: right;\n",
       "    }\n",
       "</style>\n",
       "<table border=\"1\" class=\"dataframe\">\n",
       "  <thead>\n",
       "    <tr style=\"text-align: right;\">\n",
       "      <th></th>\n",
       "      <th>Name</th>\n",
       "      <th>Gender</th>\n",
       "      <th>Game</th>\n",
       "      <th>Age_range</th>\n",
       "      <th>Playable</th>\n",
       "      <th>Sexualization_total</th>\n",
       "      <th>Id</th>\n",
       "      <th>Species</th>\n",
       "      <th>Alliance</th>\n",
       "      <th>Function</th>\n",
       "      <th>Romantic_Interest</th>\n",
       "    </tr>\n",
       "  </thead>\n",
       "  <tbody>\n",
       "    <tr>\n",
       "      <th>0</th>\n",
       "      <td>Farah</td>\n",
       "      <td>Female</td>\n",
       "      <td>CODMW</td>\n",
       "      <td>Adult</td>\n",
       "      <td>1</td>\n",
       "      <td>0</td>\n",
       "      <td>CODMW_Farah</td>\n",
       "      <td>Human</td>\n",
       "      <td>Protagonist</td>\n",
       "      <td>PA</td>\n",
       "      <td>0</td>\n",
       "    </tr>\n",
       "    <tr>\n",
       "      <th>1</th>\n",
       "      <td>Protagonist</td>\n",
       "      <td>Custom</td>\n",
       "      <td>PSS</td>\n",
       "      <td>Teenager</td>\n",
       "      <td>1</td>\n",
       "      <td>0</td>\n",
       "      <td>PSS_Protagonist</td>\n",
       "      <td>Human</td>\n",
       "      <td>Protagonist</td>\n",
       "      <td>PA</td>\n",
       "      <td>0</td>\n",
       "    </tr>\n",
       "    <tr>\n",
       "      <th>2</th>\n",
       "      <td>Magnolia</td>\n",
       "      <td>Female</td>\n",
       "      <td>PSS</td>\n",
       "      <td>Elderly</td>\n",
       "      <td>0</td>\n",
       "      <td>0</td>\n",
       "      <td>PSS_Magnolia</td>\n",
       "      <td>Human</td>\n",
       "      <td>Protagonist</td>\n",
       "      <td>SC</td>\n",
       "      <td>0</td>\n",
       "    </tr>\n",
       "    <tr>\n",
       "      <th>3</th>\n",
       "      <td>Sonia</td>\n",
       "      <td>Female</td>\n",
       "      <td>PSS</td>\n",
       "      <td>Adult</td>\n",
       "      <td>0</td>\n",
       "      <td>0</td>\n",
       "      <td>PSS_Sonia</td>\n",
       "      <td>Human</td>\n",
       "      <td>Protagonist</td>\n",
       "      <td>SC</td>\n",
       "      <td>0</td>\n",
       "    </tr>\n",
       "    <tr>\n",
       "      <th>4</th>\n",
       "      <td>Marnie</td>\n",
       "      <td>Female</td>\n",
       "      <td>PSS</td>\n",
       "      <td>Teenager</td>\n",
       "      <td>0</td>\n",
       "      <td>0</td>\n",
       "      <td>PSS_Marnie</td>\n",
       "      <td>Human</td>\n",
       "      <td>Both</td>\n",
       "      <td>MC</td>\n",
       "      <td>0</td>\n",
       "    </tr>\n",
       "  </tbody>\n",
       "</table>\n",
       "</div>"
      ],
      "text/plain": [
       "          Name  Gender   Game Age_range  Playable  Sexualization_total  \\\n",
       "0        Farah  Female  CODMW     Adult         1                    0   \n",
       "1  Protagonist  Custom    PSS  Teenager         1                    0   \n",
       "2     Magnolia  Female    PSS   Elderly         0                    0   \n",
       "3        Sonia  Female    PSS     Adult         0                    0   \n",
       "4       Marnie  Female    PSS  Teenager         0                    0   \n",
       "\n",
       "                Id Species     Alliance Function  Romantic_Interest  \n",
       "0      CODMW_Farah   Human  Protagonist       PA                  0  \n",
       "1  PSS_Protagonist   Human  Protagonist       PA                  0  \n",
       "2     PSS_Magnolia   Human  Protagonist       SC                  0  \n",
       "3        PSS_Sonia   Human  Protagonist       SC                  0  \n",
       "4       PSS_Marnie   Human         Both       MC                  0  "
      ]
     },
     "execution_count": 10,
     "metadata": {},
     "output_type": "execute_result"
    }
   ],
   "source": [
    "df_char.head(5)"
   ]
  },
  {
   "cell_type": "markdown",
   "metadata": {},
   "source": [
    "I don't agree with zelda as no trophy, also she's kidnapped"
   ]
  },
  {
   "cell_type": "code",
   "execution_count": 11,
   "metadata": {},
   "outputs": [
    {
     "data": {
      "text/html": [
       "<div>\n",
       "<style scoped>\n",
       "    .dataframe tbody tr th:only-of-type {\n",
       "        vertical-align: middle;\n",
       "    }\n",
       "\n",
       "    .dataframe tbody tr th {\n",
       "        vertical-align: top;\n",
       "    }\n",
       "\n",
       "    .dataframe thead th {\n",
       "        text-align: right;\n",
       "    }\n",
       "</style>\n",
       "<table border=\"1\" class=\"dataframe\">\n",
       "  <thead>\n",
       "    <tr style=\"text-align: right;\">\n",
       "      <th></th>\n",
       "      <th>character_id</th>\n",
       "      <th>Sexualized_clothing</th>\n",
       "      <th>Trophy</th>\n",
       "      <th>Damsel in Distress</th>\n",
       "      <th>Sexualized Cutscenes</th>\n",
       "      <th>Total</th>\n",
       "    </tr>\n",
       "  </thead>\n",
       "  <tbody>\n",
       "    <tr>\n",
       "      <th>0</th>\n",
       "      <td>CODMW_Farah</td>\n",
       "      <td>0</td>\n",
       "      <td>0</td>\n",
       "      <td>0</td>\n",
       "      <td>0</td>\n",
       "      <td>0</td>\n",
       "    </tr>\n",
       "    <tr>\n",
       "      <th>1</th>\n",
       "      <td>PSS_Protagonist</td>\n",
       "      <td>0</td>\n",
       "      <td>0</td>\n",
       "      <td>0</td>\n",
       "      <td>0</td>\n",
       "      <td>0</td>\n",
       "    </tr>\n",
       "    <tr>\n",
       "      <th>2</th>\n",
       "      <td>PSS_Magnolia</td>\n",
       "      <td>0</td>\n",
       "      <td>0</td>\n",
       "      <td>0</td>\n",
       "      <td>0</td>\n",
       "      <td>0</td>\n",
       "    </tr>\n",
       "    <tr>\n",
       "      <th>3</th>\n",
       "      <td>PSS_Sonia</td>\n",
       "      <td>0</td>\n",
       "      <td>0</td>\n",
       "      <td>0</td>\n",
       "      <td>0</td>\n",
       "      <td>0</td>\n",
       "    </tr>\n",
       "    <tr>\n",
       "      <th>4</th>\n",
       "      <td>PSS_Marnie</td>\n",
       "      <td>0</td>\n",
       "      <td>0</td>\n",
       "      <td>0</td>\n",
       "      <td>0</td>\n",
       "      <td>0</td>\n",
       "    </tr>\n",
       "  </tbody>\n",
       "</table>\n",
       "</div>"
      ],
      "text/plain": [
       "      character_id  Sexualized_clothing  Trophy  Damsel in Distress  \\\n",
       "0      CODMW_Farah                    0       0                   0   \n",
       "1  PSS_Protagonist                    0       0                   0   \n",
       "2     PSS_Magnolia                    0       0                   0   \n",
       "3        PSS_Sonia                    0       0                   0   \n",
       "4       PSS_Marnie                    0       0                   0   \n",
       "\n",
       "   Sexualized Cutscenes  Total  \n",
       "0                     0      0  \n",
       "1                     0      0  \n",
       "2                     0      0  \n",
       "3                     0      0  \n",
       "4                     0      0  "
      ]
     },
     "execution_count": 11,
     "metadata": {},
     "output_type": "execute_result"
    }
   ],
   "source": [
    "df_sex.head(5)"
   ]
  },
  {
   "cell_type": "code",
   "execution_count": 12,
   "metadata": {},
   "outputs": [
    {
     "data": {
      "text/plain": [
       "Gender\n",
       "Male          393\n",
       "Female        203\n",
       "Non-binary     33\n",
       "Custom          8\n",
       "Name: count, dtype: int64"
      ]
     },
     "execution_count": 12,
     "metadata": {},
     "output_type": "execute_result"
    }
   ],
   "source": [
    "df_char['Gender'].value_counts()"
   ]
  },
  {
   "cell_type": "code",
   "execution_count": 13,
   "metadata": {},
   "outputs": [
    {
     "data": {
      "text/plain": [
       "Gender\n",
       "Male           61.7%\n",
       "Female        31.87%\n",
       "Non-binary     5.18%\n",
       "Custom         1.26%\n",
       "Name: proportion, dtype: object"
      ]
     },
     "execution_count": 13,
     "metadata": {},
     "output_type": "execute_result"
    }
   ],
   "source": [
    "gender_percent = df_char['Gender'].value_counts(normalize = True)\n",
    "\n",
    "full_percent = round(gender_percent * 100,2).astype(float)\n",
    "\n",
    "full_percent_formatted = full_percent.apply(lambda x: f\"{x:}%\") # lambda explain\n",
    "\n",
    "full_percent_formatted"
   ]
  },
  {
   "cell_type": "code",
   "execution_count": 14,
   "metadata": {},
   "outputs": [
    {
     "data": {
      "text/plain": [
       "<Axes: xlabel='Gender'>"
      ]
     },
     "execution_count": 14,
     "metadata": {},
     "output_type": "execute_result"
    },
    {
     "data": {
      "image/png": "[encoded data removed]",
      "text/plain": [
       "<Figure size 640x480 with 1 Axes>"
      ]
     },
     "metadata": {},
     "output_type": "display_data"
    }
   ],
   "source": [
    "df_char['Gender'].value_counts().plot(kind='bar')"
   ]
  },
  {
   "cell_type": "markdown",
   "metadata": {},
   "source": [
    "### What are the trends, if any, when gender percentage is split by age range?"
   ]
  },
  {
   "cell_type": "code",
   "execution_count": 15,
   "metadata": {},
   "outputs": [
    {
     "data": {
      "text/html": [
       "<div>\n",
       "<style scoped>\n",
       "    .dataframe tbody tr th:only-of-type {\n",
       "        vertical-align: middle;\n",
       "    }\n",
       "\n",
       "    .dataframe tbody tr th {\n",
       "        vertical-align: top;\n",
       "    }\n",
       "\n",
       "    .dataframe thead th {\n",
       "        text-align: right;\n",
       "    }\n",
       "</style>\n",
       "<table border=\"1\" class=\"dataframe\">\n",
       "  <thead>\n",
       "    <tr style=\"text-align: right;\">\n",
       "      <th></th>\n",
       "      <th>Gender</th>\n",
       "      <th>Age_range</th>\n",
       "    </tr>\n",
       "  </thead>\n",
       "  <tbody>\n",
       "    <tr>\n",
       "      <th>0</th>\n",
       "      <td>Female</td>\n",
       "      <td>Adult</td>\n",
       "    </tr>\n",
       "    <tr>\n",
       "      <th>1</th>\n",
       "      <td>Custom</td>\n",
       "      <td>Teenager</td>\n",
       "    </tr>\n",
       "    <tr>\n",
       "      <th>2</th>\n",
       "      <td>Female</td>\n",
       "      <td>Elderly</td>\n",
       "    </tr>\n",
       "  </tbody>\n",
       "</table>\n",
       "</div>"
      ],
      "text/plain": [
       "   Gender Age_range\n",
       "0  Female     Adult\n",
       "1  Custom  Teenager\n",
       "2  Female   Elderly"
      ]
     },
     "execution_count": 15,
     "metadata": {},
     "output_type": "execute_result"
    }
   ],
   "source": [
    "gender_age = df_char[['Gender', 'Age_range']]\n",
    "gender_age.head(3)"
   ]
  },
  {
   "cell_type": "code",
   "execution_count": 16,
   "metadata": {},
   "outputs": [
    {
     "data": {
      "text/plain": [
       "Gender      Age_range  \n",
       "Male        Adult          27.79%\n",
       "Female      Adult          12.87%\n",
       "Male        Unknown        11.15%\n",
       "            Middle-aged     7.69%\n",
       "Female      Unknown         5.65%\n",
       "            Young adult     4.71%\n",
       "Male        Young adult     4.55%\n",
       "Non-binary  Unknown          4.4%\n",
       "Male        Child           3.92%\n",
       "Female      Teenager        3.77%\n",
       "Male        Elderly         3.45%\n",
       "            Teenager        2.83%\n",
       "Female      Middle-aged     2.04%\n",
       "            Child           1.57%\n",
       "            Elderly          1.1%\n",
       "Custom      Adult           0.63%\n",
       "Male        Infant          0.31%\n",
       "Custom      Teenager        0.31%\n",
       "Non-binary  Teenager        0.31%\n",
       "Custom      Child           0.16%\n",
       "Female      Infant          0.16%\n",
       "Custom      Unknown         0.16%\n",
       "Non-binary  Adult           0.16%\n",
       "            Child           0.16%\n",
       "            Middle-aged     0.16%\n",
       "Name: proportion, dtype: object"
      ]
     },
     "execution_count": 16,
     "metadata": {},
     "output_type": "execute_result"
    }
   ],
   "source": [
    "gender_age = df_char[['Gender', 'Age_range']].value_counts(normalize = True)\n",
    "\n",
    "gender_age_percent = round(gender_age * 100,2).astype(float)\n",
    "\n",
    "gender_age_pc_format = gender_age_percent.apply(lambda x: f\"{x:}%\")\n",
    "\n",
    "gender_age_pc_format"
   ]
  },
  {
   "cell_type": "code",
   "execution_count": 60,
   "metadata": {},
   "outputs": [
    {
     "data": {
      "image/png": "[encoded data removed]",
      "text/plain": [
       "<Figure size 640x480 with 1 Axes>"
      ]
     },
     "metadata": {},
     "output_type": "display_data"
    },
    {
     "data": {
      "text/plain": [
       "<Figure size 2000x1000 with 0 Axes>"
      ]
     },
     "metadata": {},
     "output_type": "display_data"
    }
   ],
   "source": [
    "gender_age_bar = df_char[['Gender','Age_range']].value_counts().unstack()\n",
    "gender_age_bar.plot(kind='bar')\n",
    "plt.figure(figsize=(20, 10))\n",
    "plt.show()"
   ]
  },
  {
   "cell_type": "markdown",
   "metadata": {},
   "source": [
    "### Is a character more/less likely to be a playable character depending on their assigned gender?"
   ]
  },
  {
   "cell_type": "code",
   "execution_count": 18,
   "metadata": {},
   "outputs": [
    {
     "data": {
      "text/plain": [
       "Index(['Name', 'Gender', 'Game', 'Age_range', 'Playable',\n",
       "       'Sexualization_total', 'Id', 'Species', 'Alliance', 'Function',\n",
       "       'Romantic_Interest'],\n",
       "      dtype='object')"
      ]
     },
     "execution_count": 18,
     "metadata": {},
     "output_type": "execute_result"
    }
   ],
   "source": [
    "df_char.columns"
   ]
  },
  {
   "cell_type": "code",
   "execution_count": 19,
   "metadata": {},
   "outputs": [
    {
     "data": {
      "text/plain": [
       "Gender      Playable\n",
       "Male        0           50.39%\n",
       "Female      0           26.69%\n",
       "Male        1            11.3%\n",
       "Female      1            5.18%\n",
       "Non-binary  0            3.61%\n",
       "            1            1.57%\n",
       "Custom      1            1.26%\n",
       "Name: proportion, dtype: object"
      ]
     },
     "execution_count": 19,
     "metadata": {},
     "output_type": "execute_result"
    }
   ],
   "source": [
    "playable_gen = df_char[['Gender', 'Playable']].value_counts(normalize= True)\n",
    "\n",
    "playable_gen = round(playable_gen * 100,2).astype(float)\n",
    "\n",
    "playable_gen = playable_gen.apply(lambda x: f\"{x:}%\")\n",
    "\n",
    "playable_gen"
   ]
  },
  {
   "cell_type": "code",
   "execution_count": 20,
   "metadata": {},
   "outputs": [
    {
     "data": {
      "text/plain": [
       "<Axes: xlabel='Gender'>"
      ]
     },
     "execution_count": 20,
     "metadata": {},
     "output_type": "execute_result"
    },
    {
     "data": {
      "image/png": "[encoded data removed]",
      "text/plain": [
       "<Figure size 640x480 with 1 Axes>"
      ]
     },
     "metadata": {},
     "output_type": "display_data"
    }
   ],
   "source": [
    "playable_gen = df_char[['Gender', 'Playable']].value_counts(normalize= True)\n",
    "playable_gen_df = playable_gen.unstack()\n",
    "playable_gen_df.plot(kind='bar', stacked=True)\n",
    "\n"
   ]
  },
  {
   "cell_type": "markdown",
   "metadata": {},
   "source": [
    "### Initially it was interesting that 50 % of males are non playable, just over 26% of females are non-playable, 11% of  males are playable, \n",
    "### 5% of females are playable (just under 50% comparatively), only 1.57% of non-binary characters in this dataset are playable.\n"
   ]
  },
  {
   "cell_type": "code",
   "execution_count": 21,
   "metadata": {},
   "outputs": [
    {
     "data": {
      "text/plain": [
       "Gender      Playable  Function\n",
       "Male        0         SC          26.06\n",
       "                      MC          16.48\n",
       "Female      0         SC          12.72\n",
       "                      MC          10.68\n",
       "Male        1         PA           7.06\n",
       "            0         MA           5.97\n",
       "Female      1         PA           2.51\n",
       "Male        1         MC           2.35\n",
       "Female      0         MA           1.57\n",
       "            1         MC           1.57\n",
       "Non-binary  1         PA           1.41\n",
       "            0         SC           1.26\n",
       "Custom      1         PA           1.26\n",
       "Male        0         DA           1.10\n",
       "            1         SC           1.10\n",
       "Female      0         DA           0.94\n",
       "Male        0         SK           0.78\n",
       "Non-binary  0         SK           0.78\n",
       "Female      0         SK           0.78\n",
       "Non-binary  0         MA           0.63\n",
       "                      MC           0.63\n",
       "Male        1         DA           0.47\n",
       "Female      1         SC           0.47\n",
       "Male        1         SK           0.31\n",
       "Non-binary  0         PA           0.31\n",
       "Female      1         DA           0.31\n",
       "                      SK           0.16\n",
       "                      MA           0.16\n",
       "Non-binary  1         SC           0.16\n",
       "Name: proportion, dtype: float64"
      ]
     },
     "execution_count": 21,
     "metadata": {},
     "output_type": "execute_result"
    }
   ],
   "source": [
    "play_gen_func = df_char[['Gender', 'Playable', 'Function']].value_counts(normalize=True)\n",
    "\n",
    "play_gen_func = round(play_gen_func * 100,2).astype(float)\n",
    "\n",
    "play_gen_func"
   ]
  },
  {
   "cell_type": "markdown",
   "metadata": {},
   "source": [
    "### Is there a general pattern in sexualization when we organise characters by gender? Is there a common pattern in those scoring high ( 2 - 3) for ‘sexualization_total’?"
   ]
  },
  {
   "cell_type": "code",
   "execution_count": 22,
   "metadata": {},
   "outputs": [
    {
     "data": {
      "text/plain": [
       "(Gender                 Custom\n",
       " Sexualization_total         0\n",
       " dtype: object,\n",
       "   Gender  Sexualization_total\n",
       " 0   Male                    0,\n",
       " Gender                 Non-binary\n",
       " Sexualization_total             3\n",
       " dtype: object)"
      ]
     },
     "execution_count": 22,
     "metadata": {},
     "output_type": "execute_result"
    }
   ],
   "source": [
    "trend_sex_min = df_char[['Gender', 'Sexualization_total']].min() #custom, sexualization 0\n",
    "\n",
    "trend_sex_mode = df_char[['Gender', 'Sexualization_total']].mode() #male, sexualization total 0\n",
    "\n",
    "trend_sex_max = df_char[['Gender', 'Sexualization_total']].max() #non-binary sexualization total 3\n",
    "\n",
    "trend_sex_min, trend_sex_mode, trend_sex_max"
   ]
  },
  {
   "cell_type": "code",
   "execution_count": 23,
   "metadata": {},
   "outputs": [
    {
     "data": {
      "text/html": [
       "<div>\n",
       "<style scoped>\n",
       "    .dataframe tbody tr th:only-of-type {\n",
       "        vertical-align: middle;\n",
       "    }\n",
       "\n",
       "    .dataframe tbody tr th {\n",
       "        vertical-align: top;\n",
       "    }\n",
       "\n",
       "    .dataframe thead th {\n",
       "        text-align: right;\n",
       "    }\n",
       "</style>\n",
       "<table border=\"1\" class=\"dataframe\">\n",
       "  <thead>\n",
       "    <tr style=\"text-align: right;\">\n",
       "      <th></th>\n",
       "      <th>Name</th>\n",
       "      <th>Gender</th>\n",
       "      <th>Game</th>\n",
       "      <th>Age_range</th>\n",
       "      <th>Playable</th>\n",
       "      <th>Sexualization_total</th>\n",
       "      <th>Id</th>\n",
       "      <th>Species</th>\n",
       "      <th>Alliance</th>\n",
       "      <th>Function</th>\n",
       "      <th>Romantic_Interest</th>\n",
       "    </tr>\n",
       "  </thead>\n",
       "  <tbody>\n",
       "    <tr>\n",
       "      <th>6</th>\n",
       "      <td>Peach</td>\n",
       "      <td>Female</td>\n",
       "      <td>SMO</td>\n",
       "      <td>Adult</td>\n",
       "      <td>0</td>\n",
       "      <td>2</td>\n",
       "      <td>SMO_Peach</td>\n",
       "      <td>Human</td>\n",
       "      <td>Protagonist</td>\n",
       "      <td>MC</td>\n",
       "      <td>1</td>\n",
       "    </tr>\n",
       "    <tr>\n",
       "      <th>9</th>\n",
       "      <td>Ciri</td>\n",
       "      <td>Female</td>\n",
       "      <td>TW3</td>\n",
       "      <td>Young adult</td>\n",
       "      <td>0</td>\n",
       "      <td>2</td>\n",
       "      <td>TW3_Ciri</td>\n",
       "      <td>Human</td>\n",
       "      <td>Protagonist</td>\n",
       "      <td>DA</td>\n",
       "      <td>0</td>\n",
       "    </tr>\n",
       "    <tr>\n",
       "      <th>17</th>\n",
       "      <td>Amanda</td>\n",
       "      <td>Female</td>\n",
       "      <td>GTAV</td>\n",
       "      <td>Middle-aged</td>\n",
       "      <td>0</td>\n",
       "      <td>3</td>\n",
       "      <td>GTAV_Amanda</td>\n",
       "      <td>Human</td>\n",
       "      <td>Both</td>\n",
       "      <td>SC</td>\n",
       "      <td>1</td>\n",
       "    </tr>\n",
       "    <tr>\n",
       "      <th>18</th>\n",
       "      <td>Tracy</td>\n",
       "      <td>Female</td>\n",
       "      <td>GTAV</td>\n",
       "      <td>Young adult</td>\n",
       "      <td>0</td>\n",
       "      <td>3</td>\n",
       "      <td>GTAV_Tracy</td>\n",
       "      <td>Human</td>\n",
       "      <td>Both</td>\n",
       "      <td>SC</td>\n",
       "      <td>0</td>\n",
       "    </tr>\n",
       "    <tr>\n",
       "      <th>26</th>\n",
       "      <td>Tiara</td>\n",
       "      <td>Female</td>\n",
       "      <td>SMO</td>\n",
       "      <td>Unknown</td>\n",
       "      <td>0</td>\n",
       "      <td>2</td>\n",
       "      <td>SMO_Tiara</td>\n",
       "      <td>Animated Object</td>\n",
       "      <td>Protagonist</td>\n",
       "      <td>SC</td>\n",
       "      <td>0</td>\n",
       "    </tr>\n",
       "    <tr>\n",
       "      <th>33</th>\n",
       "      <td>Yennefer</td>\n",
       "      <td>Female</td>\n",
       "      <td>TW3</td>\n",
       "      <td>Adult</td>\n",
       "      <td>0</td>\n",
       "      <td>2</td>\n",
       "      <td>TW3_Yennefer</td>\n",
       "      <td>Human</td>\n",
       "      <td>Protagonist</td>\n",
       "      <td>MC</td>\n",
       "      <td>1</td>\n",
       "    </tr>\n",
       "    <tr>\n",
       "      <th>34</th>\n",
       "      <td>Triss</td>\n",
       "      <td>Female</td>\n",
       "      <td>TW3</td>\n",
       "      <td>Adult</td>\n",
       "      <td>0</td>\n",
       "      <td>2</td>\n",
       "      <td>TW3_Triss</td>\n",
       "      <td>Human</td>\n",
       "      <td>Protagonist</td>\n",
       "      <td>SC</td>\n",
       "      <td>2</td>\n",
       "    </tr>\n",
       "    <tr>\n",
       "      <th>35</th>\n",
       "      <td>Keira Metz</td>\n",
       "      <td>Female</td>\n",
       "      <td>TW3</td>\n",
       "      <td>Adult</td>\n",
       "      <td>0</td>\n",
       "      <td>2</td>\n",
       "      <td>TW3_Keira</td>\n",
       "      <td>Human</td>\n",
       "      <td>Protagonist</td>\n",
       "      <td>SC</td>\n",
       "      <td>2</td>\n",
       "    </tr>\n",
       "    <tr>\n",
       "      <th>112</th>\n",
       "      <td>Geralt</td>\n",
       "      <td>Male</td>\n",
       "      <td>TW3</td>\n",
       "      <td>Adult</td>\n",
       "      <td>1</td>\n",
       "      <td>2</td>\n",
       "      <td>TW3_Geralt</td>\n",
       "      <td>Human</td>\n",
       "      <td>Protagonist</td>\n",
       "      <td>PA</td>\n",
       "      <td>0</td>\n",
       "    </tr>\n",
       "    <tr>\n",
       "      <th>214</th>\n",
       "      <td>Girlfriend</td>\n",
       "      <td>Female</td>\n",
       "      <td>HLM</td>\n",
       "      <td>Adult</td>\n",
       "      <td>0</td>\n",
       "      <td>2</td>\n",
       "      <td>HLM_Girlfriend</td>\n",
       "      <td>Human</td>\n",
       "      <td>Protagonist</td>\n",
       "      <td>SC</td>\n",
       "      <td>1</td>\n",
       "    </tr>\n",
       "    <tr>\n",
       "      <th>231</th>\n",
       "      <td>Citra Taulgami</td>\n",
       "      <td>Female</td>\n",
       "      <td>FC3</td>\n",
       "      <td>Adult</td>\n",
       "      <td>0</td>\n",
       "      <td>3</td>\n",
       "      <td>FC3_Citra</td>\n",
       "      <td>Human</td>\n",
       "      <td>Both</td>\n",
       "      <td>MC</td>\n",
       "      <td>1</td>\n",
       "    </tr>\n",
       "    <tr>\n",
       "      <th>248</th>\n",
       "      <td>Ann Takamaki</td>\n",
       "      <td>Female</td>\n",
       "      <td>PSN5</td>\n",
       "      <td>Teenager</td>\n",
       "      <td>1</td>\n",
       "      <td>2</td>\n",
       "      <td>PSN5_Ann</td>\n",
       "      <td>Human</td>\n",
       "      <td>Protagonist</td>\n",
       "      <td>DA</td>\n",
       "      <td>2</td>\n",
       "    </tr>\n",
       "    <tr>\n",
       "      <th>285</th>\n",
       "      <td>Violet</td>\n",
       "      <td>Female</td>\n",
       "      <td>NW</td>\n",
       "      <td>Adult</td>\n",
       "      <td>0</td>\n",
       "      <td>2</td>\n",
       "      <td>NW_Violet</td>\n",
       "      <td>Human</td>\n",
       "      <td>Both</td>\n",
       "      <td>MC</td>\n",
       "      <td>0</td>\n",
       "    </tr>\n",
       "    <tr>\n",
       "      <th>405</th>\n",
       "      <td>Jade</td>\n",
       "      <td>Female</td>\n",
       "      <td>DQXI</td>\n",
       "      <td>Young adult</td>\n",
       "      <td>1</td>\n",
       "      <td>2</td>\n",
       "      <td>DQXI_Jade</td>\n",
       "      <td>Human</td>\n",
       "      <td>Protagonist</td>\n",
       "      <td>MC</td>\n",
       "      <td>2</td>\n",
       "    </tr>\n",
       "    <tr>\n",
       "      <th>425</th>\n",
       "      <td>Makoto</td>\n",
       "      <td>Female</td>\n",
       "      <td>YK0</td>\n",
       "      <td>Young adult</td>\n",
       "      <td>0</td>\n",
       "      <td>2</td>\n",
       "      <td>YK0_Makoto</td>\n",
       "      <td>Human</td>\n",
       "      <td>Protagonist</td>\n",
       "      <td>DA</td>\n",
       "      <td>0</td>\n",
       "    </tr>\n",
       "    <tr>\n",
       "      <th>533</th>\n",
       "      <td>Bayonetta</td>\n",
       "      <td>Female</td>\n",
       "      <td>BY2</td>\n",
       "      <td>Unknown</td>\n",
       "      <td>1</td>\n",
       "      <td>2</td>\n",
       "      <td>BY2_Bayonetta</td>\n",
       "      <td>Human</td>\n",
       "      <td>Protagonist</td>\n",
       "      <td>PA</td>\n",
       "      <td>0</td>\n",
       "    </tr>\n",
       "    <tr>\n",
       "      <th>535</th>\n",
       "      <td>Jeanne</td>\n",
       "      <td>Female</td>\n",
       "      <td>BY2</td>\n",
       "      <td>Unknown</td>\n",
       "      <td>0</td>\n",
       "      <td>2</td>\n",
       "      <td>BY2_Jeanne</td>\n",
       "      <td>Human</td>\n",
       "      <td>Protagonist</td>\n",
       "      <td>MC</td>\n",
       "      <td>0</td>\n",
       "    </tr>\n",
       "  </tbody>\n",
       "</table>\n",
       "</div>"
      ],
      "text/plain": [
       "               Name  Gender  Game    Age_range  Playable  Sexualization_total  \\\n",
       "6             Peach  Female   SMO        Adult         0                    2   \n",
       "9              Ciri  Female   TW3  Young adult         0                    2   \n",
       "17           Amanda  Female  GTAV  Middle-aged         0                    3   \n",
       "18            Tracy  Female  GTAV  Young adult         0                    3   \n",
       "26            Tiara  Female   SMO      Unknown         0                    2   \n",
       "33         Yennefer  Female   TW3        Adult         0                    2   \n",
       "34           Triss   Female   TW3        Adult         0                    2   \n",
       "35       Keira Metz  Female   TW3        Adult         0                    2   \n",
       "112          Geralt    Male   TW3        Adult         1                    2   \n",
       "214      Girlfriend  Female   HLM        Adult         0                    2   \n",
       "231  Citra Taulgami  Female   FC3        Adult         0                    3   \n",
       "248    Ann Takamaki  Female  PSN5     Teenager         1                    2   \n",
       "285          Violet  Female    NW        Adult         0                    2   \n",
       "405            Jade  Female  DQXI  Young adult         1                    2   \n",
       "425          Makoto  Female   YK0  Young adult         0                    2   \n",
       "533       Bayonetta  Female   BY2      Unknown         1                    2   \n",
       "535          Jeanne  Female   BY2      Unknown         0                    2   \n",
       "\n",
       "                 Id          Species     Alliance Function  Romantic_Interest  \n",
       "6         SMO_Peach            Human  Protagonist       MC                  1  \n",
       "9          TW3_Ciri            Human  Protagonist       DA                  0  \n",
       "17      GTAV_Amanda            Human         Both       SC                  1  \n",
       "18       GTAV_Tracy            Human         Both       SC                  0  \n",
       "26        SMO_Tiara  Animated Object  Protagonist       SC                  0  \n",
       "33     TW3_Yennefer            Human  Protagonist       MC                  1  \n",
       "34        TW3_Triss            Human  Protagonist       SC                  2  \n",
       "35        TW3_Keira            Human  Protagonist       SC                  2  \n",
       "112      TW3_Geralt            Human  Protagonist       PA                  0  \n",
       "214  HLM_Girlfriend            Human  Protagonist       SC                  1  \n",
       "231       FC3_Citra            Human         Both       MC                  1  \n",
       "248        PSN5_Ann            Human  Protagonist       DA                  2  \n",
       "285       NW_Violet            Human         Both       MC                  0  \n",
       "405       DQXI_Jade            Human  Protagonist       MC                  2  \n",
       "425      YK0_Makoto            Human  Protagonist       DA                  0  \n",
       "533   BY2_Bayonetta            Human  Protagonist       PA                  0  \n",
       "535      BY2_Jeanne            Human  Protagonist       MC                  0  "
      ]
     },
     "execution_count": 23,
     "metadata": {},
     "output_type": "execute_result"
    }
   ],
   "source": [
    "#Only those meeting half of sexualization total \n",
    "sex_over_2 = df_char[df_char['Sexualization_total'] >= 2]\n",
    "sex_over_2"
   ]
  },
  {
   "cell_type": "code",
   "execution_count": 52,
   "metadata": {},
   "outputs": [
    {
     "data": {
      "text/plain": [
       "Gender      Sexualization_total\n",
       "Male        0                      388\n",
       "Female      0                      174\n",
       "Non-binary  0                       32\n",
       "Female      1                       13\n",
       "            2                       13\n",
       "Custom      0                        8\n",
       "Male        1                        4\n",
       "Female      3                        3\n",
       "Male        2                        1\n",
       "Non-binary  1                        1\n",
       "Name: count, dtype: int64"
      ]
     },
     "execution_count": 52,
     "metadata": {},
     "output_type": "execute_result"
    }
   ],
   "source": [
    "gensex_over2_split = df_char[['Gender','Sexualization_total']].value_counts()\n",
    "gensex_over2_split"
   ]
  },
  {
   "cell_type": "code",
   "execution_count": 63,
   "metadata": {},
   "outputs": [
    {
     "data": {
      "image/png": "[encoded data removed]",
      "text/plain": [
       "<Figure size 640x480 with 1 Axes>"
      ]
     },
     "metadata": {},
     "output_type": "display_data"
    }
   ],
   "source": [
    "gensex_over2_split.plot(kind='bar', color=['r', 'g', 'b']) # Simone to google how to add labels inside graph"
   ]
  },
  {
   "cell_type": "code",
   "execution_count": 41,
   "metadata": {},
   "outputs": [
    {
     "data": {
      "image/png": "[encoded data removed]",
      "text/plain": [
       "<Figure size 1200x900 with 12 Axes>"
      ]
     },
     "metadata": {},
     "output_type": "display_data"
    }
   ],
   "source": [
    "#sns plot for romantic interest, by gender and age\n",
    "g = sns.FacetGrid(df_char, col ='Gender', row=\"Romantic_Interest\")\n",
    "g.map(sns.histplot, 'Age_range')\n",
    "for ax in g.axes.flat:\n",
    "    plt.setp(ax.get_xticklabels(), rotation=45) # for loop to rotate x axis by 45 degrees - more readable\n",
    "plt.show()"
   ]
  },
  {
   "cell_type": "markdown",
   "metadata": {},
   "source": [
    "## Non-binary character focus\n",
    "* How many games did these come from\n",
    "* Which games contain non-binary characters and year of game release?\n",
    "* What species are these non-binary characters - more likely to be humanoid/non human explicitly?\n"
   ]
  },
  {
   "cell_type": "code",
   "execution_count": 25,
   "metadata": {},
   "outputs": [
    {
     "name": "stdout",
     "output_type": "stream",
     "text": [
      "         Gender    Game\n",
      "11   Non-binary      UT\n",
      "16   Non-binary     JRN\n",
      "56   Non-binary      UT\n",
      "207  Non-binary     BSI\n",
      "222  Non-binary     JRN\n",
      "223  Non-binary     JRN\n",
      "224  Non-binary     JRN\n",
      "257  Non-binary      TN\n",
      "258  Non-binary      TN\n",
      "263  Non-binary      ER\n",
      "267  Non-binary      ER\n",
      "283  Non-binary      NW\n",
      "308  Non-binary     NRA\n",
      "325  Non-binary   IWATE\n",
      "339  Non-binary   IWATE\n",
      "346  Non-binary     IMM\n",
      "347  Non-binary     IMM\n",
      "371  Non-binary    CACW\n",
      "396  Non-binary    OAWW\n",
      "399  Non-binary    OAWW\n",
      "432  Non-binary  TINGWD\n",
      "456  Non-binary    OABF\n",
      "460  Non-binary    OABF\n",
      "502  Non-binary     CLS\n",
      "503  Non-binary      DC\n",
      "508  Non-binary    HLKN\n",
      "512  Non-binary    HLKN\n",
      "529  Non-binary    NITW\n",
      "532  Non-binary    NITW\n",
      "569  Non-binary    MGSV\n",
      "571  Non-binary    TSWP\n",
      "599  Non-binary   TBOIR\n",
      "628  Non-binary    KBOS\n"
     ]
    }
   ],
   "source": [
    "#data regarding non-binary to be merged with games.csv to determine the countries these games are from:\n",
    "df_non_b = df_char[df_char['Gender'] == 'Non-binary'][['Gender', 'Game']]\n",
    "print(df_non_b)"
   ]
  },
  {
   "cell_type": "code",
   "execution_count": null,
   "metadata": {},
   "outputs": [],
   "source": []
  },
  {
   "cell_type": "markdown",
   "metadata": {},
   "source": [
    "Merging character and sexualization tables, when grouped by gender, what can we learn about designers clothing choices for characters? Which (if any) gender is most likely to wear sexualized clothing?\n",
    "Joining gender-sex_cloths and then doing a sum "
   ]
  },
  {
   "cell_type": "code",
   "execution_count": 26,
   "metadata": {},
   "outputs": [
    {
     "ename": "NameError",
     "evalue": "name 'df_Char' is not defined",
     "output_type": "error",
     "traceback": [
      "\u001b[0;31m---------------------------------------------------------------------------\u001b[0m",
      "\u001b[0;31mNameError\u001b[0m                                 Traceback (most recent call last)",
      "Cell \u001b[0;32mIn[26], line 2\u001b[0m\n\u001b[1;32m      1\u001b[0m df_sex\u001b[38;5;241m.\u001b[39mrename(columns\u001b[38;5;241m=\u001b[39m{\u001b[38;5;124m'\u001b[39m\u001b[38;5;124mcharacter_id\u001b[39m\u001b[38;5;124m'\u001b[39m: \u001b[38;5;124m'\u001b[39m\u001b[38;5;124mId\u001b[39m\u001b[38;5;124m'\u001b[39m}, inplace\u001b[38;5;241m=\u001b[39m\u001b[38;5;28;01mTrue\u001b[39;00m)\n\u001b[0;32m----> 2\u001b[0m \u001b[38;5;28mprint\u001b[39m(\u001b[43mdf_Char\u001b[49m\u001b[38;5;241m.\u001b[39mcolumns)\n\u001b[1;32m      3\u001b[0m \u001b[38;5;28mprint\u001b[39m(df_sex\u001b[38;5;241m.\u001b[39mcolumns)\n",
      "\u001b[0;31mNameError\u001b[0m: name 'df_Char' is not defined"
     ]
    }
   ],
   "source": [
    "df_sex.rename(columns={'character_id': 'Id'}, inplace=True)\n",
    "print(df_Char.columns)\n",
    "print(df_sex.columns)\n"
   ]
  },
  {
   "cell_type": "markdown",
   "metadata": {},
   "source": [
    "# Merging character and sexualization tables, when grouped by gender, what can we learn about designers clothing choices for characters? Which (if any) gender is most likely to wear sexualized clothing?\n",
    "\n",
    "### Doing % of this data could be interesting"
   ]
  },
  {
   "cell_type": "code",
   "execution_count": null,
   "metadata": {},
   "outputs": [],
   "source": [
    "df_merged = pd.merge(df_Char, df_sex, on='Id')\n",
    "\n",
    "# Calcular el promedio de puntuaciones de ropa sexualizada por género\n",
    "clothing_sexualization_by_gender = df_merged.groupby('Gender')['Sexualized_clothing'].sum()\n",
    "print(clothing_sexualization_by_gender)"
   ]
  },
  {
   "cell_type": "markdown",
   "metadata": {},
   "source": [
    "We have 393 males characters and only 2 of those have been sexualized clothes.\n",
    "In other hand we have 203 female characters we have a total of 17 who have sexualized clothes."
   ]
  },
  {
   "cell_type": "markdown",
   "metadata": {},
   "source": [
    "Through the years which year had the most sexualized clothing? "
   ]
  },
  {
   "cell_type": "code",
   "execution_count": null,
   "metadata": {},
   "outputs": [],
   "source": [
    "# print(df_Char.columns)\n",
    "# print(df_sex.columns)\n",
    "\n",
    "# df_1Q = df_Char[['Gender', 'Age_range']]\n",
    "# df_1Q\n",
    "# df_index_1Q = df_Char.set_index('Gender', inplace = True)\n",
    "df_Char\n"
   ]
  }
 ],
 "metadata": {
  "kernelspec": {
   "display_name": "Python 3 (ipykernel)",
   "language": "python",
   "name": "python3"
  },
  "language_info": {
   "codemirror_mode": {
    "name": "ipython",
    "version": 3
   },
   "file_extension": ".py",
   "mimetype": "text/x-python",
   "name": "python",
   "nbconvert_exporter": "python",
   "pygments_lexer": "ipython3",
   "version": "3.11.2"
  }
 },
 "nbformat": 4,
 "nbformat_minor": 4
}
