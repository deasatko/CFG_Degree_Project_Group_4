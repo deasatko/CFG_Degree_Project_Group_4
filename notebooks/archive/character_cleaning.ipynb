{
 "cells": [
  {
   "cell_type": "markdown",
   "id": "8760e407-af2f-4b4b-a2cd-69bfba3da435",
   "metadata": {},
   "source": [
    "# <b>Character's data: Importing of libraries, moduels and data set conversion</b>"
   ]
  },
  {
   "cell_type": "code",
   "execution_count": 1,
   "id": "bf3a12f2-4190-4f07-934b-6368662658fb",
   "metadata": {},
   "outputs": [
    {
     "name": "stdout",
     "output_type": "stream",
     "text": [
      "Requirement already satisfied: pandas in /home/simonet/my_jupyter_env/lib/python3.11/site-packages (2.2.2)\n",
      "Requirement already satisfied: numpy>=1.23.2 in /home/simonet/my_jupyter_env/lib/python3.11/site-packages (from pandas) (1.26.4)\n",
      "Requirement already satisfied: python-dateutil>=2.8.2 in /home/simonet/my_jupyter_env/lib/python3.11/site-packages (from pandas) (2.9.0.post0)\n",
      "Requirement already satisfied: pytz>=2020.1 in /home/simonet/my_jupyter_env/lib/python3.11/site-packages (from pandas) (2024.1)\n",
      "Requirement already satisfied: tzdata>=2022.7 in /home/simonet/my_jupyter_env/lib/python3.11/site-packages (from pandas) (2024.1)\n",
      "Requirement already satisfied: six>=1.5 in /home/simonet/my_jupyter_env/lib/python3.11/site-packages (from python-dateutil>=2.8.2->pandas) (1.16.0)\n"
     ]
    }
   ],
   "source": [
    "#installing pandas library - python-3 is already installed on this machine\n",
    "!pip install pandas"
   ]
  },
  {
   "cell_type": "code",
   "execution_count": 2,
   "id": "a2101a6f-177b-46de-9cfc-f14cc52c50be",
   "metadata": {},
   "outputs": [],
   "source": [
    "#importing of necessary libraries\n",
    "import pandas as pd # converting our imported .csv file into a dataframe\n",
    "import numpy as np # for performing mathematical operations on \n",
    "import os #used in this case to locate the .csv file path"
   ]
  },
  {
   "cell_type": "code",
   "execution_count": 3,
   "id": "b324f30b-0db0-4ea4-a5d4-12d379a10917",
   "metadata": {},
   "outputs": [
    {
     "data": {
      "text/plain": [
       "'/home/simonet/CFG_Project_G4/CFG_Degree_Project_Group_4/notebooks/archive/characters.csv'"
      ]
     },
     "execution_count": 3,
     "metadata": {},
     "output_type": "execute_result"
    }
   ],
   "source": [
    "#os called to locate file path\n",
    "file_path = os.path.join(os.getcwd(), \"characters.csv\")\n",
    "file_path"
   ]
  },
  {
   "cell_type": "code",
   "execution_count": 4,
   "id": "a5de54a2-dab3-4d6e-b245-2231edc86b97",
   "metadata": {},
   "outputs": [
    {
     "data": {
      "text/html": [
       "<div>\n",
       "<style scoped>\n",
       "    .dataframe tbody tr th:only-of-type {\n",
       "        vertical-align: middle;\n",
       "    }\n",
       "\n",
       "    .dataframe tbody tr th {\n",
       "        vertical-align: top;\n",
       "    }\n",
       "\n",
       "    .dataframe thead th {\n",
       "        text-align: right;\n",
       "    }\n",
       "</style>\n",
       "<table border=\"1\" class=\"dataframe\">\n",
       "  <thead>\n",
       "    <tr style=\"text-align: right;\">\n",
       "      <th></th>\n",
       "      <th>Name</th>\n",
       "      <th>Gender</th>\n",
       "      <th>Game</th>\n",
       "      <th>Age</th>\n",
       "      <th>Age_range</th>\n",
       "      <th>Playable</th>\n",
       "      <th>Sexualization</th>\n",
       "      <th>Id</th>\n",
       "      <th>Species</th>\n",
       "      <th>Side</th>\n",
       "      <th>Relevance</th>\n",
       "      <th>Romantic_Interest</th>\n",
       "    </tr>\n",
       "  </thead>\n",
       "  <tbody>\n",
       "    <tr>\n",
       "      <th>0</th>\n",
       "      <td>Farah</td>\n",
       "      <td>Female</td>\n",
       "      <td>CODMW</td>\n",
       "      <td>27</td>\n",
       "      <td>Adult</td>\n",
       "      <td>1</td>\n",
       "      <td>0</td>\n",
       "      <td>CODMW_Farah</td>\n",
       "      <td>Human</td>\n",
       "      <td>P</td>\n",
       "      <td>PA</td>\n",
       "      <td>No</td>\n",
       "    </tr>\n",
       "    <tr>\n",
       "      <th>1</th>\n",
       "      <td>Protagonist</td>\n",
       "      <td>Custom</td>\n",
       "      <td>PSS</td>\n",
       "      <td>Teenager</td>\n",
       "      <td>Teenager</td>\n",
       "      <td>1</td>\n",
       "      <td>0</td>\n",
       "      <td>PSS_Protagonist</td>\n",
       "      <td>Human</td>\n",
       "      <td>P</td>\n",
       "      <td>PA</td>\n",
       "      <td>No</td>\n",
       "    </tr>\n",
       "    <tr>\n",
       "      <th>2</th>\n",
       "      <td>Magnolia</td>\n",
       "      <td>Female</td>\n",
       "      <td>PSS</td>\n",
       "      <td>Elderly</td>\n",
       "      <td>Elderly</td>\n",
       "      <td>0</td>\n",
       "      <td>0</td>\n",
       "      <td>PSS_Magnolia</td>\n",
       "      <td>Human</td>\n",
       "      <td>P</td>\n",
       "      <td>SC</td>\n",
       "      <td>No</td>\n",
       "    </tr>\n",
       "    <tr>\n",
       "      <th>3</th>\n",
       "      <td>Sonia</td>\n",
       "      <td>Female</td>\n",
       "      <td>PSS</td>\n",
       "      <td>26</td>\n",
       "      <td>Adult</td>\n",
       "      <td>0</td>\n",
       "      <td>0</td>\n",
       "      <td>PSS_Sonia</td>\n",
       "      <td>Human</td>\n",
       "      <td>P</td>\n",
       "      <td>SC</td>\n",
       "      <td>No</td>\n",
       "    </tr>\n",
       "    <tr>\n",
       "      <th>4</th>\n",
       "      <td>Marnie</td>\n",
       "      <td>Female</td>\n",
       "      <td>PSS</td>\n",
       "      <td>Teenager</td>\n",
       "      <td>Teenager</td>\n",
       "      <td>0</td>\n",
       "      <td>0</td>\n",
       "      <td>PSS_Marnie</td>\n",
       "      <td>Human</td>\n",
       "      <td>B</td>\n",
       "      <td>MC</td>\n",
       "      <td>No</td>\n",
       "    </tr>\n",
       "  </tbody>\n",
       "</table>\n",
       "</div>"
      ],
      "text/plain": [
       "          Name  Gender   Game       Age Age_range  Playable  Sexualization  \\\n",
       "0        Farah  Female  CODMW        27     Adult         1              0   \n",
       "1  Protagonist  Custom    PSS  Teenager  Teenager         1              0   \n",
       "2     Magnolia  Female    PSS   Elderly   Elderly         0              0   \n",
       "3        Sonia  Female    PSS        26     Adult         0              0   \n",
       "4       Marnie  Female    PSS  Teenager  Teenager         0              0   \n",
       "\n",
       "                Id Species Side Relevance Romantic_Interest  \n",
       "0      CODMW_Farah   Human    P        PA                No  \n",
       "1  PSS_Protagonist   Human    P        PA                No  \n",
       "2     PSS_Magnolia   Human    P        SC                No  \n",
       "3        PSS_Sonia   Human    P        SC                No  \n",
       "4       PSS_Marnie   Human    B        MC                No  "
      ]
     },
     "execution_count": 4,
     "metadata": {},
     "output_type": "execute_result"
    }
   ],
   "source": [
    "# Read unclean dataset to CSV and return first five rows for review\n",
    "character_data = pd.read_csv('/home/simonet/my_jupyter_env/characters.csv')\n",
    "character_data.head()"
   ]
  },
  {
   "cell_type": "markdown",
   "id": "e51cdb48-5e80-4588-ab6e-88b83801f6e5",
   "metadata": {},
   "source": [
    "# <b>Data Cleaning</b>"
   ]
  },
  {
   "cell_type": "code",
   "execution_count": 5,
   "id": "57f025ac-02e0-4d7d-ad9f-e3c1b17f3e4b",
   "metadata": {},
   "outputs": [
    {
     "data": {
      "text/plain": [
       "0"
      ]
     },
     "execution_count": 5,
     "metadata": {},
     "output_type": "execute_result"
    }
   ],
   "source": [
    "#Initial check for null values, none \n",
    "character_data.isnull().sum().sum()"
   ]
  },
  {
   "cell_type": "code",
   "execution_count": 6,
   "id": "6bc2ed6c-833f-4685-b556-af936ee29d90",
   "metadata": {},
   "outputs": [
    {
     "data": {
      "text/plain": [
       "Name                 0\n",
       "Gender               0\n",
       "Game                 0\n",
       "Age                  0\n",
       "Age_range            0\n",
       "Playable             0\n",
       "Sexualization        0\n",
       "Id                   0\n",
       "Species              0\n",
       "Side                 0\n",
       "Relevance            0\n",
       "Romantic_Interest    0\n",
       "dtype: int64"
      ]
     },
     "execution_count": 6,
     "metadata": {},
     "output_type": "execute_result"
    }
   ],
   "source": [
    "#Initial check for null values, none \n",
    "character_data.isnull().sum()"
   ]
  },
  {
   "cell_type": "markdown",
   "id": "1fb77800-cae3-4c31-8d4d-0e97f75331d3",
   "metadata": {},
   "source": [
    "## An inital sum taken of <b>null values</b> within the character dataset, in order to return a sum of the individual column sums of null a .sum().sum() can is called. A breakdown has been provided using the single .sum() function. No need for null removal as none in our dataset."
   ]
  },
  {
   "cell_type": "code",
   "execution_count": 7,
   "id": "b4e3ea5f-129e-4942-81c3-a0c71a71354c",
   "metadata": {},
   "outputs": [
    {
     "name": "stdout",
     "output_type": "stream",
     "text": [
      "0\n"
     ]
    }
   ],
   "source": [
    "duplicate_count = character_data[character_data.duplicated()].shape[0]\n",
    "print(duplicate_count)"
   ]
  },
  {
   "cell_type": "markdown",
   "id": "cd136eeb-91bf-46cc-902d-efeeadb113eb",
   "metadata": {},
   "source": [
    "## The dataset is checked for <b>duplicated values</b> as the presence of duplicates will skew our dataset, and result in an inaccurate representation of character metrics and relationships. No duplicate values exist in this dataset."
   ]
  },
  {
   "cell_type": "code",
   "execution_count": 8,
   "id": "eabf33dc-9561-4f43-a852-26de5f52de7d",
   "metadata": {},
   "outputs": [
    {
     "data": {
      "text/plain": [
       "Name                 object\n",
       "Gender               object\n",
       "Game                 object\n",
       "Age                  object\n",
       "Age_range            object\n",
       "Playable              int64\n",
       "Sexualization         int64\n",
       "Id                   object\n",
       "Species              object\n",
       "Side                 object\n",
       "Relevance            object\n",
       "Romantic_Interest    object\n",
       "dtype: object"
      ]
     },
     "execution_count": 8,
     "metadata": {},
     "output_type": "execute_result"
    }
   ],
   "source": [
    "#character_data.dtypes, all data types correspond to data in column, can be manipulated with ease\n",
    "character_data.dtypes"
   ]
  },
  {
   "cell_type": "markdown",
   "id": "a20d259a-4e25-4f00-9287-eb9f1eb1e30f",
   "metadata": {},
   "source": [
    "## Character dataset is reviewed for <b>dataypes</b>, a check is made for any inconsistencies in data typing. All data types listed are consistent with the data itself.<br> However, <b>Romantic_Interest</b> column will be converted to int64 data type for consistency and easier statistical use and for calculations."
   ]
  },
  {
   "cell_type": "code",
   "execution_count": 9,
   "id": "214e826c-2a88-404c-a100-a732445099f9",
   "metadata": {},
   "outputs": [],
   "source": [
    "character_data = character_data.rename(columns = {'Side':'Alliance'})\n",
    "character_data = character_data.rename(columns = {'Relevance':'Function'})\n",
    "character_data = character_data.rename(columns = {'Sexualization':'Sexualization_total'})"
   ]
  },
  {
   "cell_type": "markdown",
   "id": "f97549a9-8fde-4f3d-a502-3f42f68d1f69",
   "metadata": {},
   "source": [
    "## Three of the <b>column's names have been changed</b> using the .rename() function. This is done in order to better capture the dynamics of the column's data. <br>'Side' changed to 'Alliance' to capture the relationship between the character of focus and others in the game, 'Relevance' has been changed to 'Function' to highlight the character's function in the game and seemed to be a more neutral term. <br>Finally, 'Sexualization' has been changed to 'Sexualization_total', a minor change but clarified this column is a sum of the sexualization types in the sexualization table."
   ]
  },
  {
   "cell_type": "code",
   "execution_count": 10,
   "id": "ad99a009-ff02-425b-b41b-0328211ddf81",
   "metadata": {},
   "outputs": [
    {
     "data": {
      "text/plain": [
       "Age\n",
       "Adult          231\n",
       "Unknown        136\n",
       "Middle-aged     31\n",
       "Teenager        27\n",
       "Elderly         23\n",
       "Child           21\n",
       "Young adult     16\n",
       "21               9\n",
       "16               9\n",
       "20               9\n",
       "17               8\n",
       "25               6\n",
       "38               6\n",
       "23               6\n",
       "22               6\n",
       "19               6\n",
       "11               6\n",
       "36               5\n",
       "13               5\n",
       "26               5\n",
       "24               4\n",
       "50               3\n",
       "18               3\n",
       "42               3\n",
       "53               3\n",
       "48               3\n",
       "43               3\n",
       "70               2\n",
       "39               2\n",
       "10               2\n",
       "40               2\n",
       "49               2\n",
       "15               2\n",
       "27               2\n",
       "Infant           2\n",
       "33               2\n",
       "46               2\n",
       "41               2\n",
       "37               2\n",
       "61               1\n",
       "12               1\n",
       "93               1\n",
       "57               1\n",
       "44               1\n",
       "8                1\n",
       "14               1\n",
       "54               1\n",
       "47               1\n",
       "120              1\n",
       "66               1\n",
       "29               1\n",
       "30               1\n",
       "28               1\n",
       "45               1\n",
       "52               1\n",
       "65               1\n",
       "51               1\n",
       "4                1\n",
       "55               1\n",
       "Name: count, dtype: int64"
      ]
     },
     "execution_count": 10,
     "metadata": {},
     "output_type": "execute_result"
    }
   ],
   "source": [
    "uk_cd = character_data['Age'].value_counts()\n",
    "uk_cd"
   ]
  },
  {
   "cell_type": "code",
   "execution_count": 11,
   "id": "a8518a29-c20a-424b-8e33-cbb087de0dc2",
   "metadata": {},
   "outputs": [],
   "source": [
    "character_data = character_data.drop(columns=['Age'])"
   ]
  },
  {
   "cell_type": "markdown",
   "id": "dd3af2c6-5184-4f27-b9b6-5cd23de483c2",
   "metadata": {},
   "source": [
    "## The dataset's 'Age' <b>column has been dropped</b> after a .value_counts() review was actioned, this is as the ages were useful however as a number of ages were called as 'unknown' the 'Age' column offered very little difference in terms of helpful added to the 'Age Range' column. These columns for our need appeared to be offering the same information."
   ]
  },
  {
   "cell_type": "code",
   "execution_count": 12,
   "id": "8da0afe1-52c3-441a-a945-4f7b2ccec7c1",
   "metadata": {},
   "outputs": [
    {
     "data": {
      "text/html": [
       "<div>\n",
       "<style scoped>\n",
       "    .dataframe tbody tr th:only-of-type {\n",
       "        vertical-align: middle;\n",
       "    }\n",
       "\n",
       "    .dataframe tbody tr th {\n",
       "        vertical-align: top;\n",
       "    }\n",
       "\n",
       "    .dataframe thead th {\n",
       "        text-align: right;\n",
       "    }\n",
       "</style>\n",
       "<table border=\"1\" class=\"dataframe\">\n",
       "  <thead>\n",
       "    <tr style=\"text-align: right;\">\n",
       "      <th></th>\n",
       "      <th>Name</th>\n",
       "      <th>Gender</th>\n",
       "      <th>Game</th>\n",
       "      <th>Age_range</th>\n",
       "      <th>Playable</th>\n",
       "      <th>Sexualization_total</th>\n",
       "      <th>Id</th>\n",
       "      <th>Species</th>\n",
       "      <th>Alliance</th>\n",
       "      <th>Function</th>\n",
       "      <th>Romantic_Interest</th>\n",
       "    </tr>\n",
       "  </thead>\n",
       "  <tbody>\n",
       "    <tr>\n",
       "      <th>0</th>\n",
       "      <td>Farah</td>\n",
       "      <td>Female</td>\n",
       "      <td>CODMW</td>\n",
       "      <td>Adult</td>\n",
       "      <td>1</td>\n",
       "      <td>0</td>\n",
       "      <td>CODMW_Farah</td>\n",
       "      <td>Human</td>\n",
       "      <td>P</td>\n",
       "      <td>PA</td>\n",
       "      <td>No</td>\n",
       "    </tr>\n",
       "    <tr>\n",
       "      <th>1</th>\n",
       "      <td>Protagonist</td>\n",
       "      <td>Custom</td>\n",
       "      <td>PSS</td>\n",
       "      <td>Teenager</td>\n",
       "      <td>1</td>\n",
       "      <td>0</td>\n",
       "      <td>PSS_Protagonist</td>\n",
       "      <td>Human</td>\n",
       "      <td>P</td>\n",
       "      <td>PA</td>\n",
       "      <td>No</td>\n",
       "    </tr>\n",
       "    <tr>\n",
       "      <th>2</th>\n",
       "      <td>Magnolia</td>\n",
       "      <td>Female</td>\n",
       "      <td>PSS</td>\n",
       "      <td>Elderly</td>\n",
       "      <td>0</td>\n",
       "      <td>0</td>\n",
       "      <td>PSS_Magnolia</td>\n",
       "      <td>Human</td>\n",
       "      <td>P</td>\n",
       "      <td>SC</td>\n",
       "      <td>No</td>\n",
       "    </tr>\n",
       "    <tr>\n",
       "      <th>3</th>\n",
       "      <td>Sonia</td>\n",
       "      <td>Female</td>\n",
       "      <td>PSS</td>\n",
       "      <td>Adult</td>\n",
       "      <td>0</td>\n",
       "      <td>0</td>\n",
       "      <td>PSS_Sonia</td>\n",
       "      <td>Human</td>\n",
       "      <td>P</td>\n",
       "      <td>SC</td>\n",
       "      <td>No</td>\n",
       "    </tr>\n",
       "    <tr>\n",
       "      <th>4</th>\n",
       "      <td>Marnie</td>\n",
       "      <td>Female</td>\n",
       "      <td>PSS</td>\n",
       "      <td>Teenager</td>\n",
       "      <td>0</td>\n",
       "      <td>0</td>\n",
       "      <td>PSS_Marnie</td>\n",
       "      <td>Human</td>\n",
       "      <td>B</td>\n",
       "      <td>MC</td>\n",
       "      <td>No</td>\n",
       "    </tr>\n",
       "  </tbody>\n",
       "</table>\n",
       "</div>"
      ],
      "text/plain": [
       "          Name  Gender   Game Age_range  Playable  Sexualization_total  \\\n",
       "0        Farah  Female  CODMW     Adult         1                    0   \n",
       "1  Protagonist  Custom    PSS  Teenager         1                    0   \n",
       "2     Magnolia  Female    PSS   Elderly         0                    0   \n",
       "3        Sonia  Female    PSS     Adult         0                    0   \n",
       "4       Marnie  Female    PSS  Teenager         0                    0   \n",
       "\n",
       "                Id Species Alliance Function Romantic_Interest  \n",
       "0      CODMW_Farah   Human        P       PA                No  \n",
       "1  PSS_Protagonist   Human        P       PA                No  \n",
       "2     PSS_Magnolia   Human        P       SC                No  \n",
       "3        PSS_Sonia   Human        P       SC                No  \n",
       "4       PSS_Marnie   Human        B       MC                No  "
      ]
     },
     "execution_count": 12,
     "metadata": {},
     "output_type": "execute_result"
    }
   ],
   "source": [
    "#Reviewing dataset following changes so far\n",
    "character_data.head()"
   ]
  },
  {
   "cell_type": "code",
   "execution_count": 13,
   "id": "a42e6bf6-5577-4d6d-a7df-dfb52b02416c",
   "metadata": {},
   "outputs": [],
   "source": [
    "#Altering Alliance column values -consideration clarity, however run time may be slightly longer - however preferred due to small dataset\n",
    "character_data['Alliance'] = character_data['Alliance'].replace({'P':'Protagonist', 'A':'Antagonist', 'B':'Both'})"
   ]
  },
  {
   "cell_type": "markdown",
   "id": "10f71b05-f1a3-4124-a2f6-0b4e7ae70dff",
   "metadata": {},
   "source": [
    "## 'Alliance' <b>column's initial's replaced</b> to the full word this is for those that are not part of the direct design team, those involved in the game making process that are not developers have a grasp of what alliance types there are. <br><br><i>This was not actioned for 'Function' although this would have been ideal, however, the running time was a consideration - in the case of 'Function' a key will be provided in visualizations to clarify the character function codes.</i>"
   ]
  },
  {
   "cell_type": "code",
   "execution_count": 14,
   "id": "38a71fbe-be3b-40e7-ab03-799b8a21fd02",
   "metadata": {},
   "outputs": [
    {
     "name": "stderr",
     "output_type": "stream",
     "text": [
      "/tmp/ipykernel_5256/3230446380.py:2: FutureWarning: Downcasting behavior in `replace` is deprecated and will be removed in a future version. To retain the old behavior, explicitly call `result.infer_objects(copy=False)`. To opt-in to the future behavior, set `pd.set_option('future.no_silent_downcasting', True)`\n",
      "  character_data['Romantic_Interest'] = character_data['Romantic_Interest'].replace({'No':0, 'Yes':1, 'Opt':2}).astype(int)\n"
     ]
    }
   ],
   "source": [
    "#replacement of Romantic interest str with int, consideration consistency with 'Playable' and 'Sexualization' fields, may improve run time\n",
    "character_data['Romantic_Interest'] = character_data['Romantic_Interest'].replace({'No':0, 'Yes':1, 'Opt':2}).astype(int)"
   ]
  },
  {
   "cell_type": "markdown",
   "id": "081c4e09-e763-406c-85bd-3c4e87ffd1bd",
   "metadata": {},
   "source": [
    "## The 'Romantic_Interest' columns values were also <b>replaced</b> using the .replace() function. Romantic interest changed from and object (str) datatype to int64, this change was actioned to ensure our 'Romantic_Interest' column could be used in calculations with ease."
   ]
  },
  {
   "cell_type": "code",
   "execution_count": 15,
   "id": "9d1be126-d5df-4469-8fce-16b34e7ecd6d",
   "metadata": {},
   "outputs": [
    {
     "data": {
      "text/plain": [
       "Name                   object\n",
       "Gender                 object\n",
       "Game                   object\n",
       "Age_range              object\n",
       "Playable                int64\n",
       "Sexualization_total     int64\n",
       "Id                     object\n",
       "Species                object\n",
       "Alliance               object\n",
       "Function               object\n",
       "Romantic_Interest       int64\n",
       "dtype: object"
      ]
     },
     "execution_count": 15,
     "metadata": {},
     "output_type": "execute_result"
    }
   ],
   "source": [
    "character_data.dtypes"
   ]
  },
  {
   "cell_type": "code",
   "execution_count": 16,
   "id": "0a3851a4-ad6a-4606-bf02-fc3e7704a8b7",
   "metadata": {},
   "outputs": [
    {
     "data": {
      "text/html": [
       "<div>\n",
       "<style scoped>\n",
       "    .dataframe tbody tr th:only-of-type {\n",
       "        vertical-align: middle;\n",
       "    }\n",
       "\n",
       "    .dataframe tbody tr th {\n",
       "        vertical-align: top;\n",
       "    }\n",
       "\n",
       "    .dataframe thead th {\n",
       "        text-align: right;\n",
       "    }\n",
       "</style>\n",
       "<table border=\"1\" class=\"dataframe\">\n",
       "  <thead>\n",
       "    <tr style=\"text-align: right;\">\n",
       "      <th></th>\n",
       "      <th>Name</th>\n",
       "      <th>Gender</th>\n",
       "      <th>Game</th>\n",
       "      <th>Age_range</th>\n",
       "      <th>Playable</th>\n",
       "      <th>Sexualization_total</th>\n",
       "      <th>Id</th>\n",
       "      <th>Species</th>\n",
       "      <th>Alliance</th>\n",
       "      <th>Function</th>\n",
       "      <th>Romantic_Interest</th>\n",
       "    </tr>\n",
       "  </thead>\n",
       "  <tbody>\n",
       "    <tr>\n",
       "      <th>34</th>\n",
       "      <td>Triss</td>\n",
       "      <td>Female</td>\n",
       "      <td>TW3</td>\n",
       "      <td>Adult</td>\n",
       "      <td>0</td>\n",
       "      <td>2</td>\n",
       "      <td>TW3_Triss</td>\n",
       "      <td>Human</td>\n",
       "      <td>Protagonist</td>\n",
       "      <td>SC</td>\n",
       "      <td>2</td>\n",
       "    </tr>\n",
       "    <tr>\n",
       "      <th>35</th>\n",
       "      <td>Keira Metz</td>\n",
       "      <td>Female</td>\n",
       "      <td>TW3</td>\n",
       "      <td>Adult</td>\n",
       "      <td>0</td>\n",
       "      <td>2</td>\n",
       "      <td>TW3_Keira</td>\n",
       "      <td>Human</td>\n",
       "      <td>Protagonist</td>\n",
       "      <td>SC</td>\n",
       "      <td>2</td>\n",
       "    </tr>\n",
       "    <tr>\n",
       "      <th>248</th>\n",
       "      <td>Ann Takamaki</td>\n",
       "      <td>Female</td>\n",
       "      <td>PSN5</td>\n",
       "      <td>Teenager</td>\n",
       "      <td>1</td>\n",
       "      <td>2</td>\n",
       "      <td>PSN5_Ann</td>\n",
       "      <td>Human</td>\n",
       "      <td>Protagonist</td>\n",
       "      <td>DA</td>\n",
       "      <td>2</td>\n",
       "    </tr>\n",
       "  </tbody>\n",
       "</table>\n",
       "</div>"
      ],
      "text/plain": [
       "             Name  Gender  Game Age_range  Playable  Sexualization_total  \\\n",
       "34         Triss   Female   TW3     Adult         0                    2   \n",
       "35     Keira Metz  Female   TW3     Adult         0                    2   \n",
       "248  Ann Takamaki  Female  PSN5  Teenager         1                    2   \n",
       "\n",
       "            Id Species     Alliance Function  Romantic_Interest  \n",
       "34   TW3_Triss   Human  Protagonist       SC                  2  \n",
       "35   TW3_Keira   Human  Protagonist       SC                  2  \n",
       "248   PSN5_Ann   Human  Protagonist       DA                  2  "
      ]
     },
     "execution_count": 16,
     "metadata": {},
     "output_type": "execute_result"
    }
   ],
   "source": [
    "#'Romantic_interest' column check using a filter for romantic level as option:\n",
    "option_2 = character_data[character_data['Romantic_Interest'] == 2]\n",
    "option_2.head(3)"
   ]
  },
  {
   "cell_type": "markdown",
   "id": "7484b5d7-30f3-456c-94bf-a5d12e92f317",
   "metadata": {},
   "source": [
    "## <b>Cleaning data row: Name change</b>"
   ]
  },
  {
   "cell_type": "code",
   "execution_count": 17,
   "id": "b34d94d5-3dd9-4abe-a719-119d1077f34a",
   "metadata": {},
   "outputs": [
    {
     "data": {
      "text/html": [
       "<div>\n",
       "<style scoped>\n",
       "    .dataframe tbody tr th:only-of-type {\n",
       "        vertical-align: middle;\n",
       "    }\n",
       "\n",
       "    .dataframe tbody tr th {\n",
       "        vertical-align: top;\n",
       "    }\n",
       "\n",
       "    .dataframe thead th {\n",
       "        text-align: right;\n",
       "    }\n",
       "</style>\n",
       "<table border=\"1\" class=\"dataframe\">\n",
       "  <thead>\n",
       "    <tr style=\"text-align: right;\">\n",
       "      <th></th>\n",
       "      <th>Name</th>\n",
       "      <th>Gender</th>\n",
       "      <th>Game</th>\n",
       "      <th>Age_range</th>\n",
       "      <th>Playable</th>\n",
       "      <th>Sexualization_total</th>\n",
       "      <th>Id</th>\n",
       "      <th>Species</th>\n",
       "      <th>Alliance</th>\n",
       "      <th>Function</th>\n",
       "      <th>Romantic_Interest</th>\n",
       "    </tr>\n",
       "  </thead>\n",
       "  <tbody>\n",
       "    <tr>\n",
       "      <th>594</th>\n",
       "      <td>???</td>\n",
       "      <td>Male</td>\n",
       "      <td>TBOIR</td>\n",
       "      <td>Child</td>\n",
       "      <td>1</td>\n",
       "      <td>0</td>\n",
       "      <td>TBOIR_???</td>\n",
       "      <td>Human</td>\n",
       "      <td>Protagonist</td>\n",
       "      <td>MC</td>\n",
       "      <td>0</td>\n",
       "    </tr>\n",
       "  </tbody>\n",
       "</table>\n",
       "</div>"
      ],
      "text/plain": [
       "    Name Gender   Game Age_range  Playable  Sexualization_total         Id  \\\n",
       "594  ???   Male  TBOIR     Child         1                    0  TBOIR_???   \n",
       "\n",
       "    Species     Alliance Function  Romantic_Interest  \n",
       "594   Human  Protagonist       MC                  0  "
      ]
     },
     "execution_count": 17,
     "metadata": {},
     "output_type": "execute_result"
    }
   ],
   "source": [
    "name_clarif = character_data[character_data['Name'] == '???']\n",
    "name_clarif"
   ]
  },
  {
   "cell_type": "markdown",
   "id": "ee226d2c-661a-45ee-bbe3-1bf84413d874",
   "metadata": {},
   "source": [
    "## Reviewing the tables Name column a character named '???' was found. Just to be sure this was not an error, the video game The Binding of Issac: Four souls was researched for a character of this name. This is a correct character name entry, however the character also goes by another name. So the additional name 'Blue Baby' has been added, in case the character's name is used for our exploration it is clear that the use of '???' is not a mistake. So the <b>character's name has been altered/replaced</b> with '???BlueBaby'."
   ]
  },
  {
   "cell_type": "code",
   "execution_count": 18,
   "id": "e699dfbb-b697-4bfc-a243-56c0eccda9e7",
   "metadata": {},
   "outputs": [],
   "source": [
    "character_data = character_data.replace({'Name':{'???': '???BlueBaby'},'Id':{'TBOIR_???':'TBOIR_???BlueBaby'}})"
   ]
  },
  {
   "cell_type": "code",
   "execution_count": 19,
   "id": "3aaea0a8-b38e-412c-a9ef-13f77e7fe3ee",
   "metadata": {},
   "outputs": [
    {
     "data": {
      "text/html": [
       "<div>\n",
       "<style scoped>\n",
       "    .dataframe tbody tr th:only-of-type {\n",
       "        vertical-align: middle;\n",
       "    }\n",
       "\n",
       "    .dataframe tbody tr th {\n",
       "        vertical-align: top;\n",
       "    }\n",
       "\n",
       "    .dataframe thead th {\n",
       "        text-align: right;\n",
       "    }\n",
       "</style>\n",
       "<table border=\"1\" class=\"dataframe\">\n",
       "  <thead>\n",
       "    <tr style=\"text-align: right;\">\n",
       "      <th></th>\n",
       "      <th>Name</th>\n",
       "      <th>Gender</th>\n",
       "      <th>Game</th>\n",
       "      <th>Age_range</th>\n",
       "      <th>Playable</th>\n",
       "      <th>Sexualization_total</th>\n",
       "      <th>Id</th>\n",
       "      <th>Species</th>\n",
       "      <th>Alliance</th>\n",
       "      <th>Function</th>\n",
       "      <th>Romantic_Interest</th>\n",
       "    </tr>\n",
       "  </thead>\n",
       "  <tbody>\n",
       "    <tr>\n",
       "      <th>594</th>\n",
       "      <td>???BlueBaby</td>\n",
       "      <td>Male</td>\n",
       "      <td>TBOIR</td>\n",
       "      <td>Child</td>\n",
       "      <td>1</td>\n",
       "      <td>0</td>\n",
       "      <td>TBOIR_???BlueBaby</td>\n",
       "      <td>Human</td>\n",
       "      <td>Protagonist</td>\n",
       "      <td>MC</td>\n",
       "      <td>0</td>\n",
       "    </tr>\n",
       "  </tbody>\n",
       "</table>\n",
       "</div>"
      ],
      "text/plain": [
       "            Name Gender   Game Age_range  Playable  Sexualization_total  \\\n",
       "594  ???BlueBaby   Male  TBOIR     Child         1                    0   \n",
       "\n",
       "                    Id Species     Alliance Function  Romantic_Interest  \n",
       "594  TBOIR_???BlueBaby   Human  Protagonist       MC                  0  "
      ]
     },
     "execution_count": 19,
     "metadata": {},
     "output_type": "execute_result"
    }
   ],
   "source": [
    "find = character_data[character_data['Name'] == '???BlueBaby']\n",
    "find"
   ]
  },
  {
   "cell_type": "code",
   "execution_count": 20,
   "id": "205613db-a5f1-48d7-bad9-99d18325d98f",
   "metadata": {},
   "outputs": [
    {
     "data": {
      "text/html": [
       "<div>\n",
       "<style scoped>\n",
       "    .dataframe tbody tr th:only-of-type {\n",
       "        vertical-align: middle;\n",
       "    }\n",
       "\n",
       "    .dataframe tbody tr th {\n",
       "        vertical-align: top;\n",
       "    }\n",
       "\n",
       "    .dataframe thead th {\n",
       "        text-align: right;\n",
       "    }\n",
       "</style>\n",
       "<table border=\"1\" class=\"dataframe\">\n",
       "  <thead>\n",
       "    <tr style=\"text-align: right;\">\n",
       "      <th></th>\n",
       "      <th>Name</th>\n",
       "      <th>Gender</th>\n",
       "      <th>Game</th>\n",
       "      <th>Age_range</th>\n",
       "      <th>Playable</th>\n",
       "      <th>Sexualization_total</th>\n",
       "      <th>Id</th>\n",
       "      <th>Species</th>\n",
       "      <th>Alliance</th>\n",
       "      <th>Function</th>\n",
       "      <th>Romantic_Interest</th>\n",
       "    </tr>\n",
       "  </thead>\n",
       "  <tbody>\n",
       "    <tr>\n",
       "      <th>0</th>\n",
       "      <td>Farah</td>\n",
       "      <td>Female</td>\n",
       "      <td>CODMW</td>\n",
       "      <td>Adult</td>\n",
       "      <td>1</td>\n",
       "      <td>0</td>\n",
       "      <td>CODMW_Farah</td>\n",
       "      <td>Human</td>\n",
       "      <td>Protagonist</td>\n",
       "      <td>PA</td>\n",
       "      <td>0</td>\n",
       "    </tr>\n",
       "    <tr>\n",
       "      <th>1</th>\n",
       "      <td>Protagonist</td>\n",
       "      <td>Custom</td>\n",
       "      <td>PSS</td>\n",
       "      <td>Teenager</td>\n",
       "      <td>1</td>\n",
       "      <td>0</td>\n",
       "      <td>PSS_Protagonist</td>\n",
       "      <td>Human</td>\n",
       "      <td>Protagonist</td>\n",
       "      <td>PA</td>\n",
       "      <td>0</td>\n",
       "    </tr>\n",
       "    <tr>\n",
       "      <th>2</th>\n",
       "      <td>Magnolia</td>\n",
       "      <td>Female</td>\n",
       "      <td>PSS</td>\n",
       "      <td>Elderly</td>\n",
       "      <td>0</td>\n",
       "      <td>0</td>\n",
       "      <td>PSS_Magnolia</td>\n",
       "      <td>Human</td>\n",
       "      <td>Protagonist</td>\n",
       "      <td>SC</td>\n",
       "      <td>0</td>\n",
       "    </tr>\n",
       "    <tr>\n",
       "      <th>3</th>\n",
       "      <td>Sonia</td>\n",
       "      <td>Female</td>\n",
       "      <td>PSS</td>\n",
       "      <td>Adult</td>\n",
       "      <td>0</td>\n",
       "      <td>0</td>\n",
       "      <td>PSS_Sonia</td>\n",
       "      <td>Human</td>\n",
       "      <td>Protagonist</td>\n",
       "      <td>SC</td>\n",
       "      <td>0</td>\n",
       "    </tr>\n",
       "    <tr>\n",
       "      <th>4</th>\n",
       "      <td>Marnie</td>\n",
       "      <td>Female</td>\n",
       "      <td>PSS</td>\n",
       "      <td>Teenager</td>\n",
       "      <td>0</td>\n",
       "      <td>0</td>\n",
       "      <td>PSS_Marnie</td>\n",
       "      <td>Human</td>\n",
       "      <td>Both</td>\n",
       "      <td>MC</td>\n",
       "      <td>0</td>\n",
       "    </tr>\n",
       "  </tbody>\n",
       "</table>\n",
       "</div>"
      ],
      "text/plain": [
       "          Name  Gender   Game Age_range  Playable  Sexualization_total  \\\n",
       "0        Farah  Female  CODMW     Adult         1                    0   \n",
       "1  Protagonist  Custom    PSS  Teenager         1                    0   \n",
       "2     Magnolia  Female    PSS   Elderly         0                    0   \n",
       "3        Sonia  Female    PSS     Adult         0                    0   \n",
       "4       Marnie  Female    PSS  Teenager         0                    0   \n",
       "\n",
       "                Id Species     Alliance Function  Romantic_Interest  \n",
       "0      CODMW_Farah   Human  Protagonist       PA                  0  \n",
       "1  PSS_Protagonist   Human  Protagonist       PA                  0  \n",
       "2     PSS_Magnolia   Human  Protagonist       SC                  0  \n",
       "3        PSS_Sonia   Human  Protagonist       SC                  0  \n",
       "4       PSS_Marnie   Human         Both       MC                  0  "
      ]
     },
     "execution_count": 20,
     "metadata": {},
     "output_type": "execute_result"
    }
   ],
   "source": [
    "character_data.head()"
   ]
  },
  {
   "cell_type": "code",
   "execution_count": 21,
   "id": "55ab4593-30f8-4c15-b2de-aa4e2b276e33",
   "metadata": {},
   "outputs": [],
   "source": [
    "character_data.to_csv('cleaned_characters.csv', index=False)"
   ]
  }
 ],
 "metadata": {
  "kernelspec": {
   "display_name": "Python 3 (ipykernel)",
   "language": "python",
   "name": "python3"
  },
  "language_info": {
   "codemirror_mode": {
    "name": "ipython",
    "version": 3
   },
   "file_extension": ".py",
   "mimetype": "text/x-python",
   "name": "python",
   "nbconvert_exporter": "python",
   "pygments_lexer": "ipython3",
   "version": "3.11.2"
  }
 },
 "nbformat": 4,
 "nbformat_minor": 5
}
